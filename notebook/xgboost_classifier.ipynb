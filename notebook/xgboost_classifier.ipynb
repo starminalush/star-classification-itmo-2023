{
 "cells": [
  {
   "cell_type": "code",
   "execution_count": 1,
   "id": "6e2ef1a8-859c-4d32-910e-ba7aa866a940",
   "metadata": {},
   "outputs": [],
   "source": [
    "import warnings\n",
    "\n",
    "warnings.filterwarnings('ignore')"
   ]
  },
  {
   "cell_type": "code",
   "execution_count": 43,
   "id": "2142c4b6-b39a-4200-9188-4dc19e885211",
   "metadata": {},
   "outputs": [],
   "source": [
    "import os\n",
    "import random\n",
    "from statistics import mode\n",
    "import optuna\n",
    "\n",
    "import pandas as pd\n",
    "import xgboost as xgb\n",
    "import numpy as np\n",
    "from sklearn.metrics import (ConfusionMatrixDisplay, classification_report,\n",
    "                             confusion_matrix, f1_score, precision_score,\n",
    "                             recall_score)\n",
    "from sklearn.model_selection import train_test_split, GridSearchCV\n",
    "from sklearn.preprocessing import LabelEncoder, StandardScaler\n",
    "from xgboost import XGBClassifier"
   ]
  },
  {
   "cell_type": "code",
   "execution_count": 3,
   "id": "4568756c-5985-451f-a31e-c2b81214dbae",
   "metadata": {},
   "outputs": [],
   "source": [
    "RANDOM_SEED=42\n",
    "random.seed(RANDOM_SEED)\n",
    "os.environ[\"PYTHONHASHSEED\"] = str(RANDOM_SEED)"
   ]
  },
  {
   "cell_type": "markdown",
   "id": "14d42acd-2230-4953-9155-b5b7c3a8c8f7",
   "metadata": {},
   "source": [
    "## Датасет"
   ]
  },
  {
   "cell_type": "code",
   "execution_count": 4,
   "id": "0a021d52-0e41-4347-b2f0-cb9b6de721bb",
   "metadata": {},
   "outputs": [],
   "source": [
    "df = pd.read_csv('../data/Skyserver_SQL2_27_2018 6_51_39 PM.csv')"
   ]
  },
  {
   "cell_type": "markdown",
   "id": "94ff2d09-2834-4aef-9984-10591109d6c5",
   "metadata": {},
   "source": [
    "Удаляем неинформативные колонки"
   ]
  },
  {
   "cell_type": "code",
   "execution_count": 6,
   "id": "1901fc51-2b9d-410e-89a7-aaa6ad16cef9",
   "metadata": {},
   "outputs": [],
   "source": [
    "df.drop(columns=['objid', 'run', 'rerun', 'camcol', 'field', 'specobjid', 'fiberid', 'plate', 'mjd'], inplace=True)"
   ]
  },
  {
   "cell_type": "code",
   "execution_count": 7,
   "id": "ad03762a-8877-483d-bd0f-7a691fd4051d",
   "metadata": {},
   "outputs": [
    {
     "data": {
      "text/html": [
       "<div>\n",
       "<style scoped>\n",
       "    .dataframe tbody tr th:only-of-type {\n",
       "        vertical-align: middle;\n",
       "    }\n",
       "\n",
       "    .dataframe tbody tr th {\n",
       "        vertical-align: top;\n",
       "    }\n",
       "\n",
       "    .dataframe thead th {\n",
       "        text-align: right;\n",
       "    }\n",
       "</style>\n",
       "<table border=\"1\" class=\"dataframe\">\n",
       "  <thead>\n",
       "    <tr style=\"text-align: right;\">\n",
       "      <th></th>\n",
       "      <th>ra</th>\n",
       "      <th>dec</th>\n",
       "      <th>u</th>\n",
       "      <th>g</th>\n",
       "      <th>r</th>\n",
       "      <th>i</th>\n",
       "      <th>z</th>\n",
       "      <th>class</th>\n",
       "      <th>redshift</th>\n",
       "    </tr>\n",
       "  </thead>\n",
       "  <tbody>\n",
       "    <tr>\n",
       "      <th>0</th>\n",
       "      <td>183.531326</td>\n",
       "      <td>0.089693</td>\n",
       "      <td>19.47406</td>\n",
       "      <td>17.04240</td>\n",
       "      <td>15.94699</td>\n",
       "      <td>15.50342</td>\n",
       "      <td>15.22531</td>\n",
       "      <td>STAR</td>\n",
       "      <td>-0.000009</td>\n",
       "    </tr>\n",
       "    <tr>\n",
       "      <th>1</th>\n",
       "      <td>183.598370</td>\n",
       "      <td>0.135285</td>\n",
       "      <td>18.66280</td>\n",
       "      <td>17.21449</td>\n",
       "      <td>16.67637</td>\n",
       "      <td>16.48922</td>\n",
       "      <td>16.39150</td>\n",
       "      <td>STAR</td>\n",
       "      <td>-0.000055</td>\n",
       "    </tr>\n",
       "    <tr>\n",
       "      <th>2</th>\n",
       "      <td>183.680207</td>\n",
       "      <td>0.126185</td>\n",
       "      <td>19.38298</td>\n",
       "      <td>18.19169</td>\n",
       "      <td>17.47428</td>\n",
       "      <td>17.08732</td>\n",
       "      <td>16.80125</td>\n",
       "      <td>GALAXY</td>\n",
       "      <td>0.123111</td>\n",
       "    </tr>\n",
       "    <tr>\n",
       "      <th>3</th>\n",
       "      <td>183.870529</td>\n",
       "      <td>0.049911</td>\n",
       "      <td>17.76536</td>\n",
       "      <td>16.60272</td>\n",
       "      <td>16.16116</td>\n",
       "      <td>15.98233</td>\n",
       "      <td>15.90438</td>\n",
       "      <td>STAR</td>\n",
       "      <td>-0.000111</td>\n",
       "    </tr>\n",
       "    <tr>\n",
       "      <th>4</th>\n",
       "      <td>183.883288</td>\n",
       "      <td>0.102557</td>\n",
       "      <td>17.55025</td>\n",
       "      <td>16.26342</td>\n",
       "      <td>16.43869</td>\n",
       "      <td>16.55492</td>\n",
       "      <td>16.61326</td>\n",
       "      <td>STAR</td>\n",
       "      <td>0.000590</td>\n",
       "    </tr>\n",
       "  </tbody>\n",
       "</table>\n",
       "</div>"
      ],
      "text/plain": [
       "           ra       dec         u         g         r         i         z  \\\n",
       "0  183.531326  0.089693  19.47406  17.04240  15.94699  15.50342  15.22531   \n",
       "1  183.598370  0.135285  18.66280  17.21449  16.67637  16.48922  16.39150   \n",
       "2  183.680207  0.126185  19.38298  18.19169  17.47428  17.08732  16.80125   \n",
       "3  183.870529  0.049911  17.76536  16.60272  16.16116  15.98233  15.90438   \n",
       "4  183.883288  0.102557  17.55025  16.26342  16.43869  16.55492  16.61326   \n",
       "\n",
       "    class  redshift  \n",
       "0    STAR -0.000009  \n",
       "1    STAR -0.000055  \n",
       "2  GALAXY  0.123111  \n",
       "3    STAR -0.000111  \n",
       "4    STAR  0.000590  "
      ]
     },
     "execution_count": 7,
     "metadata": {},
     "output_type": "execute_result"
    }
   ],
   "source": [
    "df.head()"
   ]
  },
  {
   "cell_type": "markdown",
   "id": "1e0be393-159f-415b-a4b5-5f8f393a4981",
   "metadata": {},
   "source": [
    "## Обучение"
   ]
  },
  {
   "cell_type": "markdown",
   "id": "2b4dbb6a-c045-438c-84b0-3c66c645d9df",
   "metadata": {},
   "source": [
    "У нас задача - предсказать класс, поэтому разобьем датасет на фичи и целевую метку"
   ]
  },
  {
   "cell_type": "code",
   "execution_count": 8,
   "id": "ef559c86-4deb-4fa5-8651-29d675ab4109",
   "metadata": {},
   "outputs": [],
   "source": [
    "X = df.drop(columns=['class'])\n",
    "y = df['class']"
   ]
  },
  {
   "cell_type": "markdown",
   "id": "9742319b-0b28-4b1e-8c0b-5d7bbecf6c26",
   "metadata": {},
   "source": [
    "Разобьем данные на train и test подвыборки"
   ]
  },
  {
   "cell_type": "code",
   "execution_count": 9,
   "id": "cd8f0c45-b07e-448e-8d53-263586fcdcbe",
   "metadata": {},
   "outputs": [],
   "source": [
    "X_train, X_test, y_train, y_test = train_test_split(X, y, test_size=0.3, random_state=42)"
   ]
  },
  {
   "cell_type": "markdown",
   "id": "66d271a2-3508-45ee-bdad-8bace9c6b1dd",
   "metadata": {},
   "source": [
    "Перед обучением надо предварительно конвертировать целевую метку в формат, удобный для модели. Выберем LabelEncoder, потому что у нас только одна категориальная переменная, и тут на самом деле без особой разницы, как именно ее кодировать. Если бы у нас было их несколько, то можно было бы использовать OneHotEncoder, чтобы модель не подумала, что между данными после препроцессинга OneHotEncoder есть какая-то связь"
   ]
  },
  {
   "cell_type": "code",
   "execution_count": 19,
   "id": "30c2a762-1c5c-4c22-8b80-996c4ef38961",
   "metadata": {},
   "outputs": [],
   "source": [
    "enc = LabelEncoder()\n",
    "y_train = enc.fit_transform(y_train)\n",
    "y_test = enc.fit_transform(y_test)"
   ]
  },
  {
   "cell_type": "markdown",
   "id": "bb162058-967e-4e5a-873f-8e8264031628",
   "metadata": {},
   "source": [
    "## Подбор гиперпараметров"
   ]
  },
  {
   "cell_type": "code",
   "execution_count": 27,
   "id": "ab3166be-84c5-4d24-ae1e-1a316a75704d",
   "metadata": {},
   "outputs": [],
   "source": [
    "xgb_clf = XGBClassifier(objective='multi:softmax', \n",
    "                            num_class=3, \n",
    "                            seed=42)"
   ]
  },
  {
   "cell_type": "code",
   "execution_count": 28,
   "id": "ac8204ab-6a5d-4753-a8fc-46669aae1253",
   "metadata": {},
   "outputs": [],
   "source": [
    "parameters = {\n",
    "    'max_depth': range (2, 10, 1),\n",
    "    'n_estimators': range(60, 220, 40),\n",
    "    'learning_rate': [0.1, 0.01, 0.05]\n",
    "}"
   ]
  },
  {
   "cell_type": "code",
   "execution_count": 29,
   "id": "dd6ab51e-e635-4b0e-a5c3-d1444c3a60f8",
   "metadata": {},
   "outputs": [],
   "source": [
    "grid_search = GridSearchCV(\n",
    "    estimator=xgb_clf,\n",
    "    param_grid=parameters,\n",
    "    scoring = 'f1_weighted',\n",
    "    n_jobs = 100,\n",
    "    cv = 10,\n",
    "    verbose=True\n",
    ")"
   ]
  },
  {
   "cell_type": "code",
   "execution_count": 30,
   "id": "f52de3df-871e-4100-a55d-c0ff6ff6d41e",
   "metadata": {},
   "outputs": [
    {
     "name": "stdout",
     "output_type": "stream",
     "text": [
      "Fitting 10 folds for each of 96 candidates, totalling 960 fits\n"
     ]
    },
    {
     "data": {
      "text/html": [
       "<style>#sk-container-id-1 {color: black;}#sk-container-id-1 pre{padding: 0;}#sk-container-id-1 div.sk-toggleable {background-color: white;}#sk-container-id-1 label.sk-toggleable__label {cursor: pointer;display: block;width: 100%;margin-bottom: 0;padding: 0.3em;box-sizing: border-box;text-align: center;}#sk-container-id-1 label.sk-toggleable__label-arrow:before {content: \"▸\";float: left;margin-right: 0.25em;color: #696969;}#sk-container-id-1 label.sk-toggleable__label-arrow:hover:before {color: black;}#sk-container-id-1 div.sk-estimator:hover label.sk-toggleable__label-arrow:before {color: black;}#sk-container-id-1 div.sk-toggleable__content {max-height: 0;max-width: 0;overflow: hidden;text-align: left;background-color: #f0f8ff;}#sk-container-id-1 div.sk-toggleable__content pre {margin: 0.2em;color: black;border-radius: 0.25em;background-color: #f0f8ff;}#sk-container-id-1 input.sk-toggleable__control:checked~div.sk-toggleable__content {max-height: 200px;max-width: 100%;overflow: auto;}#sk-container-id-1 input.sk-toggleable__control:checked~label.sk-toggleable__label-arrow:before {content: \"▾\";}#sk-container-id-1 div.sk-estimator input.sk-toggleable__control:checked~label.sk-toggleable__label {background-color: #d4ebff;}#sk-container-id-1 div.sk-label input.sk-toggleable__control:checked~label.sk-toggleable__label {background-color: #d4ebff;}#sk-container-id-1 input.sk-hidden--visually {border: 0;clip: rect(1px 1px 1px 1px);clip: rect(1px, 1px, 1px, 1px);height: 1px;margin: -1px;overflow: hidden;padding: 0;position: absolute;width: 1px;}#sk-container-id-1 div.sk-estimator {font-family: monospace;background-color: #f0f8ff;border: 1px dotted black;border-radius: 0.25em;box-sizing: border-box;margin-bottom: 0.5em;}#sk-container-id-1 div.sk-estimator:hover {background-color: #d4ebff;}#sk-container-id-1 div.sk-parallel-item::after {content: \"\";width: 100%;border-bottom: 1px solid gray;flex-grow: 1;}#sk-container-id-1 div.sk-label:hover label.sk-toggleable__label {background-color: #d4ebff;}#sk-container-id-1 div.sk-serial::before {content: \"\";position: absolute;border-left: 1px solid gray;box-sizing: border-box;top: 0;bottom: 0;left: 50%;z-index: 0;}#sk-container-id-1 div.sk-serial {display: flex;flex-direction: column;align-items: center;background-color: white;padding-right: 0.2em;padding-left: 0.2em;position: relative;}#sk-container-id-1 div.sk-item {position: relative;z-index: 1;}#sk-container-id-1 div.sk-parallel {display: flex;align-items: stretch;justify-content: center;background-color: white;position: relative;}#sk-container-id-1 div.sk-item::before, #sk-container-id-1 div.sk-parallel-item::before {content: \"\";position: absolute;border-left: 1px solid gray;box-sizing: border-box;top: 0;bottom: 0;left: 50%;z-index: -1;}#sk-container-id-1 div.sk-parallel-item {display: flex;flex-direction: column;z-index: 1;position: relative;background-color: white;}#sk-container-id-1 div.sk-parallel-item:first-child::after {align-self: flex-end;width: 50%;}#sk-container-id-1 div.sk-parallel-item:last-child::after {align-self: flex-start;width: 50%;}#sk-container-id-1 div.sk-parallel-item:only-child::after {width: 0;}#sk-container-id-1 div.sk-dashed-wrapped {border: 1px dashed gray;margin: 0 0.4em 0.5em 0.4em;box-sizing: border-box;padding-bottom: 0.4em;background-color: white;}#sk-container-id-1 div.sk-label label {font-family: monospace;font-weight: bold;display: inline-block;line-height: 1.2em;}#sk-container-id-1 div.sk-label-container {text-align: center;}#sk-container-id-1 div.sk-container {/* jupyter's `normalize.less` sets `[hidden] { display: none; }` but bootstrap.min.css set `[hidden] { display: none !important; }` so we also need the `!important` here to be able to override the default hidden behavior on the sphinx rendered scikit-learn.org. See: https://github.com/scikit-learn/scikit-learn/issues/21755 */display: inline-block !important;position: relative;}#sk-container-id-1 div.sk-text-repr-fallback {display: none;}</style><div id=\"sk-container-id-1\" class=\"sk-top-container\"><div class=\"sk-text-repr-fallback\"><pre>GridSearchCV(cv=10,\n",
       "             estimator=XGBClassifier(base_score=None, booster=None,\n",
       "                                     callbacks=None, colsample_bylevel=None,\n",
       "                                     colsample_bynode=None,\n",
       "                                     colsample_bytree=None, device=None,\n",
       "                                     early_stopping_rounds=None,\n",
       "                                     enable_categorical=False, eval_metric=None,\n",
       "                                     feature_types=None, gamma=None,\n",
       "                                     grow_policy=None, importance_type=None,\n",
       "                                     interaction_constraints=None,\n",
       "                                     learning_rate=None...\n",
       "                                     max_cat_to_onehot=None,\n",
       "                                     max_delta_step=None, max_depth=None,\n",
       "                                     max_leaves=None, min_child_weight=None,\n",
       "                                     missing=nan, monotone_constraints=None,\n",
       "                                     multi_strategy=None, n_estimators=None,\n",
       "                                     n_jobs=None, num_class=3,\n",
       "                                     num_parallel_tree=None, ...),\n",
       "             n_jobs=10,\n",
       "             param_grid={&#x27;learning_rate&#x27;: [0.1, 0.01, 0.05],\n",
       "                         &#x27;max_depth&#x27;: range(2, 10),\n",
       "                         &#x27;n_estimators&#x27;: range(60, 220, 40)},\n",
       "             scoring=&#x27;f1_weighted&#x27;, verbose=True)</pre><b>In a Jupyter environment, please rerun this cell to show the HTML representation or trust the notebook. <br />On GitHub, the HTML representation is unable to render, please try loading this page with nbviewer.org.</b></div><div class=\"sk-container\" hidden><div class=\"sk-item sk-dashed-wrapped\"><div class=\"sk-label-container\"><div class=\"sk-label sk-toggleable\"><input class=\"sk-toggleable__control sk-hidden--visually\" id=\"sk-estimator-id-1\" type=\"checkbox\" ><label for=\"sk-estimator-id-1\" class=\"sk-toggleable__label sk-toggleable__label-arrow\">GridSearchCV</label><div class=\"sk-toggleable__content\"><pre>GridSearchCV(cv=10,\n",
       "             estimator=XGBClassifier(base_score=None, booster=None,\n",
       "                                     callbacks=None, colsample_bylevel=None,\n",
       "                                     colsample_bynode=None,\n",
       "                                     colsample_bytree=None, device=None,\n",
       "                                     early_stopping_rounds=None,\n",
       "                                     enable_categorical=False, eval_metric=None,\n",
       "                                     feature_types=None, gamma=None,\n",
       "                                     grow_policy=None, importance_type=None,\n",
       "                                     interaction_constraints=None,\n",
       "                                     learning_rate=None...\n",
       "                                     max_cat_to_onehot=None,\n",
       "                                     max_delta_step=None, max_depth=None,\n",
       "                                     max_leaves=None, min_child_weight=None,\n",
       "                                     missing=nan, monotone_constraints=None,\n",
       "                                     multi_strategy=None, n_estimators=None,\n",
       "                                     n_jobs=None, num_class=3,\n",
       "                                     num_parallel_tree=None, ...),\n",
       "             n_jobs=10,\n",
       "             param_grid={&#x27;learning_rate&#x27;: [0.1, 0.01, 0.05],\n",
       "                         &#x27;max_depth&#x27;: range(2, 10),\n",
       "                         &#x27;n_estimators&#x27;: range(60, 220, 40)},\n",
       "             scoring=&#x27;f1_weighted&#x27;, verbose=True)</pre></div></div></div><div class=\"sk-parallel\"><div class=\"sk-parallel-item\"><div class=\"sk-item\"><div class=\"sk-label-container\"><div class=\"sk-label sk-toggleable\"><input class=\"sk-toggleable__control sk-hidden--visually\" id=\"sk-estimator-id-2\" type=\"checkbox\" ><label for=\"sk-estimator-id-2\" class=\"sk-toggleable__label sk-toggleable__label-arrow\">estimator: XGBClassifier</label><div class=\"sk-toggleable__content\"><pre>XGBClassifier(base_score=None, booster=None, callbacks=None,\n",
       "              colsample_bylevel=None, colsample_bynode=None,\n",
       "              colsample_bytree=None, device=None, early_stopping_rounds=None,\n",
       "              enable_categorical=False, eval_metric=None, feature_types=None,\n",
       "              gamma=None, grow_policy=None, importance_type=None,\n",
       "              interaction_constraints=None, learning_rate=None, max_bin=None,\n",
       "              max_cat_threshold=None, max_cat_to_onehot=None,\n",
       "              max_delta_step=None, max_depth=None, max_leaves=None,\n",
       "              min_child_weight=None, missing=nan, monotone_constraints=None,\n",
       "              multi_strategy=None, n_estimators=None, n_jobs=None, num_class=3,\n",
       "              num_parallel_tree=None, ...)</pre></div></div></div><div class=\"sk-serial\"><div class=\"sk-item\"><div class=\"sk-estimator sk-toggleable\"><input class=\"sk-toggleable__control sk-hidden--visually\" id=\"sk-estimator-id-3\" type=\"checkbox\" ><label for=\"sk-estimator-id-3\" class=\"sk-toggleable__label sk-toggleable__label-arrow\">XGBClassifier</label><div class=\"sk-toggleable__content\"><pre>XGBClassifier(base_score=None, booster=None, callbacks=None,\n",
       "              colsample_bylevel=None, colsample_bynode=None,\n",
       "              colsample_bytree=None, device=None, early_stopping_rounds=None,\n",
       "              enable_categorical=False, eval_metric=None, feature_types=None,\n",
       "              gamma=None, grow_policy=None, importance_type=None,\n",
       "              interaction_constraints=None, learning_rate=None, max_bin=None,\n",
       "              max_cat_threshold=None, max_cat_to_onehot=None,\n",
       "              max_delta_step=None, max_depth=None, max_leaves=None,\n",
       "              min_child_weight=None, missing=nan, monotone_constraints=None,\n",
       "              multi_strategy=None, n_estimators=None, n_jobs=None, num_class=3,\n",
       "              num_parallel_tree=None, ...)</pre></div></div></div></div></div></div></div></div></div></div>"
      ],
      "text/plain": [
       "GridSearchCV(cv=10,\n",
       "             estimator=XGBClassifier(base_score=None, booster=None,\n",
       "                                     callbacks=None, colsample_bylevel=None,\n",
       "                                     colsample_bynode=None,\n",
       "                                     colsample_bytree=None, device=None,\n",
       "                                     early_stopping_rounds=None,\n",
       "                                     enable_categorical=False, eval_metric=None,\n",
       "                                     feature_types=None, gamma=None,\n",
       "                                     grow_policy=None, importance_type=None,\n",
       "                                     interaction_constraints=None,\n",
       "                                     learning_rate=None...\n",
       "                                     max_cat_to_onehot=None,\n",
       "                                     max_delta_step=None, max_depth=None,\n",
       "                                     max_leaves=None, min_child_weight=None,\n",
       "                                     missing=nan, monotone_constraints=None,\n",
       "                                     multi_strategy=None, n_estimators=None,\n",
       "                                     n_jobs=None, num_class=3,\n",
       "                                     num_parallel_tree=None, ...),\n",
       "             n_jobs=10,\n",
       "             param_grid={'learning_rate': [0.1, 0.01, 0.05],\n",
       "                         'max_depth': range(2, 10),\n",
       "                         'n_estimators': range(60, 220, 40)},\n",
       "             scoring='f1_weighted', verbose=True)"
      ]
     },
     "execution_count": 30,
     "metadata": {},
     "output_type": "execute_result"
    }
   ],
   "source": [
    "grid_search.fit(X_train, y_train)"
   ]
  },
  {
   "cell_type": "code",
   "execution_count": 32,
   "id": "7cb432cd-1b38-4acd-9d12-32e5f90c3108",
   "metadata": {},
   "outputs": [
    {
     "data": {
      "text/plain": [
       "{'learning_rate': 0.1, 'max_depth': 9, 'n_estimators': 100}"
      ]
     },
     "execution_count": 32,
     "metadata": {},
     "output_type": "execute_result"
    }
   ],
   "source": [
    "grid_search.best_params_"
   ]
  },
  {
   "cell_type": "code",
   "execution_count": 33,
   "id": "3accd0fd-c998-45b4-a03d-659325246798",
   "metadata": {},
   "outputs": [
    {
     "data": {
      "text/plain": [
       "0.9899465080122567"
      ]
     },
     "execution_count": 33,
     "metadata": {},
     "output_type": "execute_result"
    }
   ],
   "source": [
    "grid_search.best_score_"
   ]
  },
  {
   "cell_type": "markdown",
   "id": "fe49d02c-91e2-4389-9ff3-c75129a9e1ed",
   "metadata": {},
   "source": [
    "## Optuna"
   ]
  },
  {
   "cell_type": "code",
   "execution_count": 50,
   "id": "c48d72b6-bce7-4929-9c1d-5d33a2689bb3",
   "metadata": {},
   "outputs": [],
   "source": [
    "def objective(trial):\n",
    "    dtrain = xgb.DMatrix(X_train, label=y_train)\n",
    "    dvalid = xgb.DMatrix(X_test, label=y_test)\n",
    "\n",
    "    param = {\n",
    "        \"verbosity\": 0,\n",
    "        \"objective\": \"multi:softmax\",\n",
    "        \"num_class\": 3,\n",
    "        # use exact for small dataset.\n",
    "        \"tree_method\": \"exact\",\n",
    "        # defines booster, gblinear for linear functions.\n",
    "        \"booster\": trial.suggest_categorical(\"booster\", [\"gbtree\", \"gblinear\", \"dart\"]),\n",
    "        # L2 regularization weight.\n",
    "        \"lambda\": trial.suggest_float(\"lambda\", 1e-8, 1.0, log=True),\n",
    "        # L1 regularization weight.\n",
    "        \"alpha\": trial.suggest_float(\"alpha\", 1e-8, 1.0, log=True),\n",
    "        # sampling ratio for training data.\n",
    "        \"subsample\": trial.suggest_float(\"subsample\", 0.2, 1.0),\n",
    "        # sampling according to each tree.\n",
    "        \"colsample_bytree\": trial.suggest_float(\"colsample_bytree\", 0.2, 1.0),\n",
    "    }\n",
    "\n",
    "    if param[\"booster\"] in [\"gbtree\", \"dart\"]:\n",
    "        # maximum depth of the tree, signifies complexity of the tree.\n",
    "        param[\"max_depth\"] = trial.suggest_int(\"max_depth\", 3, 9, step=2)\n",
    "        # minimum child weight, larger the term more conservative the tree.\n",
    "        param[\"min_child_weight\"] = trial.suggest_int(\"min_child_weight\", 2, 10)\n",
    "        param[\"eta\"] = trial.suggest_float(\"eta\", 1e-8, 1.0, log=True)\n",
    "        # defines how selective algorithm is.\n",
    "        param[\"gamma\"] = trial.suggest_float(\"gamma\", 1e-8, 1.0, log=True)\n",
    "        param[\"grow_policy\"] = trial.suggest_categorical(\"grow_policy\", [\"depthwise\", \"lossguide\"])\n",
    "\n",
    "    if param[\"booster\"] == \"dart\":\n",
    "        param[\"sample_type\"] = trial.suggest_categorical(\"sample_type\", [\"uniform\", \"weighted\"])\n",
    "        param[\"normalize_type\"] = trial.suggest_categorical(\"normalize_type\", [\"tree\", \"forest\"])\n",
    "        param[\"rate_drop\"] = trial.suggest_float(\"rate_drop\", 1e-8, 1.0, log=True)\n",
    "        param[\"skip_drop\"] = trial.suggest_float(\"skip_drop\", 1e-8, 1.0, log=True)\n",
    "\n",
    "    bst = xgb.train(param, dtrain)\n",
    "    preds = bst.predict(dvalid)\n",
    "    pred_labels = np.rint(preds)\n",
    "    f1 = f1_score(y_test, pred_labels, average='weighted')\n",
    "    return f1"
   ]
  },
  {
   "cell_type": "code",
   "execution_count": 51,
   "id": "9b432544-f283-4adc-9264-39b26f23f366",
   "metadata": {},
   "outputs": [
    {
     "name": "stderr",
     "output_type": "stream",
     "text": [
      "[I 2023-12-26 16:41:48,558] A new study created in memory with name: no-name-db7fcd8e-b4e1-4263-af40-a3d24789e66b\n",
      "[I 2023-12-26 16:41:48,637] Trial 0 finished with value: 0.43387424207892855 and parameters: {'booster': 'gblinear', 'lambda': 0.021646907605599005, 'alpha': 0.0003930209500027381, 'subsample': 0.6089175512780751, 'colsample_bytree': 0.5161181113679294}. Best is trial 0 with value: 0.43387424207892855.\n",
      "[I 2023-12-26 16:41:48,661] Trial 1 finished with value: 0.8823803018792294 and parameters: {'booster': 'gblinear', 'lambda': 7.511518061514997e-05, 'alpha': 0.009338564512491146, 'subsample': 0.8531376665931736, 'colsample_bytree': 0.667291839947506}. Best is trial 1 with value: 0.8823803018792294.\n",
      "[I 2023-12-26 16:41:48,735] Trial 2 finished with value: 0.9885855076481319 and parameters: {'booster': 'gbtree', 'lambda': 0.7010135658160812, 'alpha': 4.68316637126489e-07, 'subsample': 0.5647309478144871, 'colsample_bytree': 0.9012036791910736, 'max_depth': 7, 'min_child_weight': 10, 'eta': 0.0003708246040508814, 'gamma': 0.07022518376085382, 'grow_policy': 'lossguide'}. Best is trial 2 with value: 0.9885855076481319.\n",
      "[I 2023-12-26 16:41:48,779] Trial 3 finished with value: 0.9885634225522244 and parameters: {'booster': 'dart', 'lambda': 0.03955960112499683, 'alpha': 0.5868649516677825, 'subsample': 0.2006051115898563, 'colsample_bytree': 0.6412562453041681, 'max_depth': 3, 'min_child_weight': 4, 'eta': 1.1669879861815933e-06, 'gamma': 2.9594941328788715e-08, 'grow_policy': 'depthwise', 'sample_type': 'uniform', 'normalize_type': 'tree', 'rate_drop': 0.45158977261632416, 'skip_drop': 0.5303365287657947}. Best is trial 2 with value: 0.9885855076481319.\n",
      "[I 2023-12-26 16:41:48,801] Trial 4 finished with value: 0.934407994581331 and parameters: {'booster': 'gblinear', 'lambda': 1.0131900537229172e-07, 'alpha': 0.0015141347595193986, 'subsample': 0.9777594159223868, 'colsample_bytree': 0.23332444545756348}. Best is trial 2 with value: 0.9885855076481319.\n",
      "[I 2023-12-26 16:41:48,857] Trial 5 finished with value: 0.33222281521014 and parameters: {'booster': 'gbtree', 'lambda': 2.6973692662119336e-05, 'alpha': 0.0002530643023773985, 'subsample': 0.660785568668885, 'colsample_bytree': 0.3438118077179033, 'max_depth': 3, 'min_child_weight': 8, 'eta': 1.2486566181403266e-08, 'gamma': 0.0224771090135847, 'grow_policy': 'lossguide'}. Best is trial 2 with value: 0.9885855076481319.\n",
      "[I 2023-12-26 16:41:49,004] Trial 6 finished with value: 0.9862919325645237 and parameters: {'booster': 'dart', 'lambda': 0.00013407769267919623, 'alpha': 0.004575997265361477, 'subsample': 0.4490439732886142, 'colsample_bytree': 0.3984499161704851, 'max_depth': 9, 'min_child_weight': 4, 'eta': 2.6956089383693288e-08, 'gamma': 3.5652676263008374e-06, 'grow_policy': 'lossguide', 'sample_type': 'uniform', 'normalize_type': 'tree', 'rate_drop': 1.0821337886595189e-07, 'skip_drop': 3.68731240204024e-07}. Best is trial 2 with value: 0.9885855076481319.\n",
      "[I 2023-12-26 16:41:49,086] Trial 7 finished with value: 0.33222281521014 and parameters: {'booster': 'dart', 'lambda': 2.5916018620406884e-08, 'alpha': 0.09280792460829274, 'subsample': 0.9966800714918056, 'colsample_bytree': 0.9663712653114398, 'max_depth': 5, 'min_child_weight': 10, 'eta': 1.656735487414277e-08, 'gamma': 1.0502282641391793e-06, 'grow_policy': 'lossguide', 'sample_type': 'weighted', 'normalize_type': 'tree', 'rate_drop': 7.915186440686114e-05, 'skip_drop': 0.0016747834878109355}. Best is trial 2 with value: 0.9885855076481319.\n",
      "[I 2023-12-26 16:41:49,158] Trial 8 finished with value: 0.9889192001242947 and parameters: {'booster': 'dart', 'lambda': 0.8711498615133595, 'alpha': 1.3826840042274333e-08, 'subsample': 0.4017977815572816, 'colsample_bytree': 0.9055045819611207, 'max_depth': 9, 'min_child_weight': 8, 'eta': 3.3307770422955924e-06, 'gamma': 7.499658080939932e-08, 'grow_policy': 'depthwise', 'sample_type': 'uniform', 'normalize_type': 'tree', 'rate_drop': 0.17241936333678606, 'skip_drop': 3.060050883986475e-08}. Best is trial 8 with value: 0.9889192001242947.\n",
      "[I 2023-12-26 16:41:49,251] Trial 9 finished with value: 0.989248559669454 and parameters: {'booster': 'dart', 'lambda': 1.0576522040560359e-05, 'alpha': 0.9191660913251746, 'subsample': 0.5933738956813623, 'colsample_bytree': 0.5322916866022364, 'max_depth': 7, 'min_child_weight': 7, 'eta': 1.7274737102997475e-06, 'gamma': 1.0510478400126346e-06, 'grow_policy': 'lossguide', 'sample_type': 'uniform', 'normalize_type': 'tree', 'rate_drop': 0.054857366537731996, 'skip_drop': 0.0015314536151884574}. Best is trial 9 with value: 0.989248559669454.\n",
      "[I 2023-12-26 16:41:49,386] Trial 10 finished with value: 0.991972664310954 and parameters: {'booster': 'dart', 'lambda': 1.6064561357617876e-06, 'alpha': 6.754859289072935e-06, 'subsample': 0.7641903727570021, 'colsample_bytree': 0.7482542646475155, 'max_depth': 7, 'min_child_weight': 2, 'eta': 0.5684653177909994, 'gamma': 0.0002484383757937728, 'grow_policy': 'lossguide', 'sample_type': 'weighted', 'normalize_type': 'forest', 'rate_drop': 0.000878053023209395, 'skip_drop': 0.0005167576987273526}. Best is trial 10 with value: 0.991972664310954.\n",
      "[I 2023-12-26 16:41:49,508] Trial 11 finished with value: 0.9923117996024151 and parameters: {'booster': 'dart', 'lambda': 3.6115379460173183e-06, 'alpha': 6.559500011063488e-06, 'subsample': 0.7434903503915573, 'colsample_bytree': 0.7589647393307126, 'max_depth': 7, 'min_child_weight': 2, 'eta': 0.37198317412875753, 'gamma': 0.00022161302851870916, 'grow_policy': 'lossguide', 'sample_type': 'weighted', 'normalize_type': 'forest', 'rate_drop': 0.0014755956440928506, 'skip_drop': 0.0005285493133268369}. Best is trial 11 with value: 0.9923117996024151.\n",
      "[I 2023-12-26 16:41:49,708] Trial 12 finished with value: 0.9929572564244777 and parameters: {'booster': 'dart', 'lambda': 7.306546061838584e-07, 'alpha': 4.312842107939165e-06, 'subsample': 0.7862417808012446, 'colsample_bytree': 0.7622800457017226, 'max_depth': 7, 'min_child_weight': 2, 'eta': 0.5733088419829082, 'gamma': 0.0005059418511589459, 'grow_policy': 'lossguide', 'sample_type': 'weighted', 'normalize_type': 'forest', 'rate_drop': 0.00035588409115089, 'skip_drop': 4.512334712584464e-05}. Best is trial 12 with value: 0.9929572564244777.\n",
      "[I 2023-12-26 16:41:49,886] Trial 13 finished with value: 0.9936430796420859 and parameters: {'booster': 'dart', 'lambda': 1.960228257382407e-07, 'alpha': 7.43949991679402e-06, 'subsample': 0.8154880895527705, 'colsample_bytree': 0.7907267043492003, 'max_depth': 5, 'min_child_weight': 2, 'eta': 0.8646827155464566, 'gamma': 0.000589744964364003, 'grow_policy': 'lossguide', 'sample_type': 'weighted', 'normalize_type': 'forest', 'rate_drop': 8.167529248189773e-05, 'skip_drop': 5.945705496428493e-06}. Best is trial 13 with value: 0.9936430796420859.\n",
      "[I 2023-12-26 16:41:49,985] Trial 14 finished with value: 0.991951566307308 and parameters: {'booster': 'dart', 'lambda': 3.254943428447215e-07, 'alpha': 1.0075377652416827e-05, 'subsample': 0.8570331835499078, 'colsample_bytree': 0.796012374832847, 'max_depth': 5, 'min_child_weight': 4, 'eta': 0.021521853156581543, 'gamma': 0.0014442798751128007, 'grow_policy': 'depthwise', 'sample_type': 'weighted', 'normalize_type': 'forest', 'rate_drop': 7.759399373037535e-06, 'skip_drop': 3.2684599174220006e-06}. Best is trial 13 with value: 0.9936430796420859.\n",
      "[I 2023-12-26 16:41:50,072] Trial 15 finished with value: 0.991269578951706 and parameters: {'booster': 'gbtree', 'lambda': 0.000981695230055107, 'alpha': 2.1523129371673843e-07, 'subsample': 0.8551497817787301, 'colsample_bytree': 0.8200028025341163, 'max_depth': 5, 'min_child_weight': 2, 'eta': 0.004835401700415612, 'gamma': 0.004618854170627552, 'grow_policy': 'lossguide'}. Best is trial 13 with value: 0.9936430796420859.\n",
      "[I 2023-12-26 16:41:50,283] Trial 16 finished with value: 0.991277150990797 and parameters: {'booster': 'dart', 'lambda': 2.2240567693869185e-08, 'alpha': 4.836990371192891e-05, 'subsample': 0.7433233532169331, 'colsample_bytree': 0.6796121893113867, 'max_depth': 5, 'min_child_weight': 5, 'eta': 0.03500551943391199, 'gamma': 1.6836846737996012e-05, 'grow_policy': 'lossguide', 'sample_type': 'weighted', 'normalize_type': 'forest', 'rate_drop': 2.9298374569068036e-06, 'skip_drop': 9.614549672980687e-06}. Best is trial 13 with value: 0.9936430796420859.\n",
      "[I 2023-12-26 16:41:50,497] Trial 17 finished with value: 0.9905820418770955 and parameters: {'booster': 'dart', 'lambda': 5.348184668323632e-07, 'alpha': 5.668248539137524e-07, 'subsample': 0.9029727130535751, 'colsample_bytree': 0.5750992676888544, 'max_depth': 9, 'min_child_weight': 3, 'eta': 0.0008146896020935131, 'gamma': 0.38716494826253384, 'grow_policy': 'depthwise', 'sample_type': 'weighted', 'normalize_type': 'forest', 'rate_drop': 0.002282448271046075, 'skip_drop': 2.9332248969785082e-05}. Best is trial 13 with value: 0.9936430796420859.\n",
      "[I 2023-12-26 16:41:50,570] Trial 18 finished with value: 0.9926403040422228 and parameters: {'booster': 'gbtree', 'lambda': 1.3171408148435931e-07, 'alpha': 4.1977564286547144e-08, 'subsample': 0.6897867952984074, 'colsample_bytree': 0.8815776733643275, 'max_depth': 3, 'min_child_weight': 6, 'eta': 0.8005704024093523, 'gamma': 7.468206753819582e-05, 'grow_policy': 'lossguide'}. Best is trial 13 with value: 0.9936430796420859.\n",
      "[I 2023-12-26 16:41:50,628] Trial 19 finished with value: 0.9268684057117201 and parameters: {'booster': 'gblinear', 'lambda': 0.0011603747049666764, 'alpha': 3.664124837673494e-05, 'subsample': 0.503160860974979, 'colsample_bytree': 0.9669027361311753}. Best is trial 13 with value: 0.9936430796420859.\n",
      "[I 2023-12-26 16:41:50,839] Trial 20 finished with value: 0.9916013904028987 and parameters: {'booster': 'dart', 'lambda': 2.8784436877450074e-06, 'alpha': 1.6688659199077404e-06, 'subsample': 0.790077236091808, 'colsample_bytree': 0.7179770685586613, 'max_depth': 7, 'min_child_weight': 3, 'eta': 0.039306573075054724, 'gamma': 0.002488198527441359, 'grow_policy': 'lossguide', 'sample_type': 'weighted', 'normalize_type': 'forest', 'rate_drop': 4.6812688687617586e-05, 'skip_drop': 5.346925637855039e-07}. Best is trial 13 with value: 0.9936430796420859.\n",
      "[I 2023-12-26 16:41:50,904] Trial 21 finished with value: 0.9919580997954374 and parameters: {'booster': 'gbtree', 'lambda': 1.3109565607204274e-07, 'alpha': 2.067573862249775e-08, 'subsample': 0.6923328256200648, 'colsample_bytree': 0.8709364402961289, 'max_depth': 3, 'min_child_weight': 6, 'eta': 0.9812782693455042, 'gamma': 4.4890955465192824e-05, 'grow_policy': 'lossguide'}. Best is trial 13 with value: 0.9936430796420859.\n",
      "[I 2023-12-26 16:41:50,976] Trial 22 finished with value: 0.9896107515587805 and parameters: {'booster': 'gbtree', 'lambda': 1.2215307193581068e-08, 'alpha': 4.776163549770308e-08, 'subsample': 0.6566507060650717, 'colsample_bytree': 0.8356538219784014, 'max_depth': 3, 'min_child_weight': 6, 'eta': 0.08344134679419524, 'gamma': 0.0003139560842236915, 'grow_policy': 'lossguide'}. Best is trial 13 with value: 0.9936430796420859.\n",
      "[I 2023-12-26 16:41:51,136] Trial 23 finished with value: 0.9912595890672347 and parameters: {'booster': 'gbtree', 'lambda': 9.777056308043163e-08, 'alpha': 8.062149243867654e-08, 'subsample': 0.8076960642837123, 'colsample_bytree': 0.9217098208947736, 'max_depth': 5, 'min_child_weight': 3, 'eta': 0.1913615607251458, 'gamma': 1.478152789842714e-05, 'grow_policy': 'lossguide'}. Best is trial 13 with value: 0.9936430796420859.\n",
      "[I 2023-12-26 16:41:51,211] Trial 24 finished with value: 0.9896107515587805 and parameters: {'booster': 'gbtree', 'lambda': 9.139555140939344e-07, 'alpha': 1.8438345264733082e-06, 'subsample': 0.921204399823685, 'colsample_bytree': 0.8075626922734774, 'max_depth': 3, 'min_child_weight': 5, 'eta': 0.009836172609967107, 'gamma': 0.0010436582548599453, 'grow_policy': 'lossguide'}. Best is trial 13 with value: 0.9936430796420859.\n",
      "[I 2023-12-26 16:41:51,362] Trial 25 finished with value: 0.9902706836112869 and parameters: {'booster': 'gbtree', 'lambda': 7.838807799449929e-06, 'alpha': 1.253252562894554e-06, 'subsample': 0.7162958732547701, 'colsample_bytree': 0.728298468663418, 'max_depth': 5, 'min_child_weight': 8, 'eta': 0.002013503076122627, 'gamma': 0.01018312983619856, 'grow_policy': 'lossguide'}. Best is trial 13 with value: 0.9936430796420859.\n",
      "[I 2023-12-26 16:41:51,678] Trial 26 finished with value: 0.9919691091930002 and parameters: {'booster': 'dart', 'lambda': 2.5809320082396683e-07, 'alpha': 1.1921233052566915e-07, 'subsample': 0.8113643827336832, 'colsample_bytree': 0.983636993504058, 'max_depth': 7, 'min_child_weight': 2, 'eta': 0.13799409608072777, 'gamma': 7.556694726954483e-05, 'grow_policy': 'depthwise', 'sample_type': 'weighted', 'normalize_type': 'forest', 'rate_drop': 4.442714741074157e-07, 'skip_drop': 0.024420241355935502}. Best is trial 13 with value: 0.9936430796420859.\n",
      "[I 2023-12-26 16:41:51,724] Trial 27 finished with value: 0.9356297212399535 and parameters: {'booster': 'gblinear', 'lambda': 4.4342702988529834e-08, 'alpha': 1.4407927123932594e-05, 'subsample': 0.2924148473235165, 'colsample_bytree': 0.625199087816403}. Best is trial 13 with value: 0.9936430796420859.\n",
      "[I 2023-12-26 16:41:51,980] Trial 28 finished with value: 0.9899426697892271 and parameters: {'booster': 'dart', 'lambda': 8.090797934032736e-07, 'alpha': 0.00019105546306261116, 'subsample': 0.9256483028390089, 'colsample_bytree': 0.8512330391473613, 'max_depth': 3, 'min_child_weight': 5, 'eta': 3.040645194140738e-05, 'gamma': 0.0007274611478771546, 'grow_policy': 'lossguide', 'sample_type': 'weighted', 'normalize_type': 'forest', 'rate_drop': 1.4854837820797714e-08, 'skip_drop': 7.869770362993184e-05}. Best is trial 13 with value: 0.9936430796420859.\n",
      "[I 2023-12-26 16:41:52,070] Trial 29 finished with value: 0.9656422410747614 and parameters: {'booster': 'gbtree', 'lambda': 5.74382592431999e-08, 'alpha': 0.000735825982118404, 'subsample': 0.6360746446597598, 'colsample_bytree': 0.443487956297588, 'max_depth': 5, 'min_child_weight': 9, 'eta': 7.711045555191176e-05, 'gamma': 1.1307743392397494e-05, 'grow_policy': 'lossguide'}. Best is trial 13 with value: 0.9936430796420859.\n",
      "[I 2023-12-26 16:41:52,185] Trial 30 finished with value: 0.9347298076908424 and parameters: {'booster': 'gblinear', 'lambda': 0.0005046168229558435, 'alpha': 3.0397136551258534e-06, 'subsample': 0.5193464832430457, 'colsample_bytree': 0.5917345013575391}. Best is trial 13 with value: 0.9936430796420859.\n",
      "[I 2023-12-26 16:41:52,405] Trial 31 finished with value: 0.9926338847387793 and parameters: {'booster': 'dart', 'lambda': 4.8837897675411714e-06, 'alpha': 4.567166932981112e-05, 'subsample': 0.7273032916262028, 'colsample_bytree': 0.7693311313286345, 'max_depth': 7, 'min_child_weight': 2, 'eta': 0.33299518378283816, 'gamma': 0.0001555794032894186, 'grow_policy': 'lossguide', 'sample_type': 'weighted', 'normalize_type': 'forest', 'rate_drop': 0.0018697950512158567, 'skip_drop': 0.0002573967188958441}. Best is trial 13 with value: 0.9936430796420859.\n",
      "[I 2023-12-26 16:41:52,560] Trial 32 finished with value: 0.9926338847387793 and parameters: {'booster': 'dart', 'lambda': 1.225606931056395e-05, 'alpha': 6.651818223052767e-05, 'subsample': 0.6935041054192691, 'colsample_bytree': 0.6937217551712602, 'max_depth': 7, 'min_child_weight': 3, 'eta': 0.6101033547076701, 'gamma': 6.741805713291301e-05, 'grow_policy': 'lossguide', 'sample_type': 'weighted', 'normalize_type': 'forest', 'rate_drop': 0.011594362408828609, 'skip_drop': 2.0340062167389236e-06}. Best is trial 13 with value: 0.9936430796420859.\n",
      "[I 2023-12-26 16:41:52,845] Trial 33 finished with value: 0.9922852739986732 and parameters: {'booster': 'dart', 'lambda': 4.2791421803441016e-05, 'alpha': 2.1330912328163222e-05, 'subsample': 0.8229825297542894, 'colsample_bytree': 0.776679024784548, 'max_depth': 7, 'min_child_weight': 2, 'eta': 0.18482438535579657, 'gamma': 0.00023017594833349926, 'grow_policy': 'lossguide', 'sample_type': 'weighted', 'normalize_type': 'forest', 'rate_drop': 0.0003353534797340488, 'skip_drop': 5.815300759673719e-05}. Best is trial 13 with value: 0.9936430796420859.\n",
      "[I 2023-12-26 16:41:53,227] Trial 34 finished with value: 0.9929573140663804 and parameters: {'booster': 'dart', 'lambda': 2.737974594268485e-07, 'alpha': 3.887873283277583e-07, 'subsample': 0.5929565786407676, 'colsample_bytree': 0.8794873623111881, 'max_depth': 9, 'min_child_weight': 3, 'eta': 0.814595890182039, 'gamma': 0.004654888021260145, 'grow_policy': 'lossguide', 'sample_type': 'weighted', 'normalize_type': 'forest', 'rate_drop': 0.011221576807954426, 'skip_drop': 0.004077739959108078}. Best is trial 13 with value: 0.9936430796420859.\n",
      "[I 2023-12-26 16:41:53,472] Trial 35 finished with value: 0.9909172593457127 and parameters: {'booster': 'dart', 'lambda': 2.7853685335999554e-07, 'alpha': 3.9778757263775503e-07, 'subsample': 0.5649505141383455, 'colsample_bytree': 0.9223183588395284, 'max_depth': 9, 'min_child_weight': 3, 'eta': 0.06882100471365865, 'gamma': 0.03495320654330419, 'grow_policy': 'lossguide', 'sample_type': 'weighted', 'normalize_type': 'forest', 'rate_drop': 0.017428671027127265, 'skip_drop': 0.015316866009655114}. Best is trial 13 with value: 0.9936430796420859.\n",
      "[I 2023-12-26 16:41:53,573] Trial 36 finished with value: 0.4303084203894883 and parameters: {'booster': 'gblinear', 'lambda': 0.021268686171066503, 'alpha': 3.415939149818639e-08, 'subsample': 0.6208425829319125, 'colsample_bytree': 0.8608890027400147}. Best is trial 13 with value: 0.9936430796420859.\n",
      "[I 2023-12-26 16:41:53,702] Trial 37 finished with value: 0.9919445394924437 and parameters: {'booster': 'gbtree', 'lambda': 1.4775651078541777e-06, 'alpha': 6.220450835869696e-07, 'subsample': 0.5260362919319111, 'colsample_bytree': 0.8714564280256882, 'max_depth': 9, 'min_child_weight': 4, 'eta': 0.010742060846723194, 'gamma': 0.1481020146370367, 'grow_policy': 'lossguide'}. Best is trial 13 with value: 0.9936430796420859.\n",
      "[I 2023-12-26 16:41:54,037] Trial 38 finished with value: 0.8615350796940773 and parameters: {'booster': 'dart', 'lambda': 1.483073916048432e-07, 'alpha': 1.4067965510399964e-07, 'subsample': 0.41615673982064316, 'colsample_bytree': 0.24538339347204158, 'max_depth': 9, 'min_child_weight': 7, 'eta': 0.6426134060341897, 'gamma': 0.006435821303391399, 'grow_policy': 'lossguide', 'sample_type': 'weighted', 'normalize_type': 'forest', 'rate_drop': 6.315435956423957e-06, 'skip_drop': 0.0056448229095393855}. Best is trial 13 with value: 0.9936430796420859.\n",
      "[I 2023-12-26 16:41:54,143] Trial 39 finished with value: 0.9885855076481319 and parameters: {'booster': 'dart', 'lambda': 0.00013004631636871845, 'alpha': 3.882359937878926e-06, 'subsample': 0.6793633299566144, 'colsample_bytree': 0.9406324442988268, 'max_depth': 3, 'min_child_weight': 3, 'eta': 0.0903940242860687, 'gamma': 0.000936423384219622, 'grow_policy': 'depthwise', 'sample_type': 'weighted', 'normalize_type': 'forest', 'rate_drop': 0.00021265316790194139, 'skip_drop': 0.2491140805886538}. Best is trial 13 with value: 0.9936430796420859.\n",
      "[I 2023-12-26 16:41:54,447] Trial 40 finished with value: 0.9912794733245313 and parameters: {'booster': 'gbtree', 'lambda': 1.0673267431145754e-08, 'alpha': 7.460132818765895e-07, 'subsample': 0.5917153347508936, 'colsample_bytree': 0.9976310150678989, 'max_depth': 5, 'min_child_weight': 4, 'eta': 0.00023401369175842012, 'gamma': 0.021661574455964092, 'grow_policy': 'lossguide'}. Best is trial 13 with value: 0.9936430796420859.\n",
      "[I 2023-12-26 16:41:55,010] Trial 41 finished with value: 0.9916132915728688 and parameters: {'booster': 'dart', 'lambda': 3.209949804110879e-06, 'alpha': 0.00011499020922893887, 'subsample': 0.7231806272868793, 'colsample_bytree': 0.651736130681622, 'max_depth': 7, 'min_child_weight': 2, 'eta': 0.24699097606271314, 'gamma': 0.0004284661034975399, 'grow_policy': 'lossguide', 'sample_type': 'weighted', 'normalize_type': 'forest', 'rate_drop': 0.006408345930104859, 'skip_drop': 1.5224617537178994e-05}. Best is trial 13 with value: 0.9936430796420859.\n",
      "[I 2023-12-26 16:41:55,415] Trial 42 finished with value: 0.9929658160926712 and parameters: {'booster': 'dart', 'lambda': 5.342167355037695e-07, 'alpha': 0.0004872701941008311, 'subsample': 0.881526069591531, 'colsample_bytree': 0.7831029617365977, 'max_depth': 9, 'min_child_weight': 2, 'eta': 0.9079019976299181, 'gamma': 0.0029868986046681354, 'grow_policy': 'lossguide', 'sample_type': 'weighted', 'normalize_type': 'forest', 'rate_drop': 3.205549803732301e-05, 'skip_drop': 0.00016968643602159413}. Best is trial 13 with value: 0.9936430796420859.\n",
      "[I 2023-12-26 16:41:55,564] Trial 43 finished with value: 0.9912928717340528 and parameters: {'booster': 'dart', 'lambda': 3.3544562459627744e-08, 'alpha': 0.013679094975188006, 'subsample': 0.8837401763305834, 'colsample_bytree': 0.8972059622452019, 'max_depth': 9, 'min_child_weight': 3, 'eta': 0.7410377942416491, 'gamma': 0.0022059307343108452, 'grow_policy': 'lossguide', 'sample_type': 'weighted', 'normalize_type': 'forest', 'rate_drop': 1.8192833642529883e-05, 'skip_drop': 0.00013555188895522394}. Best is trial 13 with value: 0.9936430796420859.\n",
      "[I 2023-12-26 16:41:55,753] Trial 44 finished with value: 0.9929573140663804 and parameters: {'booster': 'dart', 'lambda': 4.868805992983205e-07, 'alpha': 0.01604672190793641, 'subsample': 0.9736415706509508, 'colsample_bytree': 0.8039374601089756, 'max_depth': 9, 'min_child_weight': 2, 'eta': 0.8427677456434393, 'gamma': 0.09998220902306121, 'grow_policy': 'lossguide', 'sample_type': 'weighted', 'normalize_type': 'forest', 'rate_drop': 4.7426686046152846e-05, 'skip_drop': 5.2594326483397685e-06}. Best is trial 13 with value: 0.9936430796420859.\n",
      "[I 2023-12-26 16:42:04,153] Trial 45 finished with value: 0.9902833984323571 and parameters: {'booster': 'dart', 'lambda': 4.171398605313054e-07, 'alpha': 0.28353364915858487, 'subsample': 0.9522106787840559, 'colsample_bytree': 0.7143616190846432, 'max_depth': 9, 'min_child_weight': 2, 'eta': 0.15980363769026323, 'gamma': 0.10008162832954069, 'grow_policy': 'lossguide', 'sample_type': 'weighted', 'normalize_type': 'forest', 'rate_drop': 3.953051874147737e-05, 'skip_drop': 3.8111431530897253e-06}. Best is trial 13 with value: 0.9936430796420859.\n",
      "[I 2023-12-26 16:42:08,073] Trial 46 finished with value: 0.9909172593457127 and parameters: {'booster': 'dart', 'lambda': 1.855185548821451e-05, 'alpha': 0.006206248245436291, 'subsample': 0.9995495276606882, 'colsample_bytree': 0.8108088123590441, 'max_depth': 9, 'min_child_weight': 2, 'eta': 9.297833933647126e-06, 'gamma': 0.8980804738398458, 'grow_policy': 'lossguide', 'sample_type': 'weighted', 'normalize_type': 'forest', 'rate_drop': 0.00048344098987258236, 'skip_drop': 4.6986981013822223e-07}. Best is trial 13 with value: 0.9936430796420859.\n",
      "[I 2023-12-26 16:42:10,463] Trial 47 finished with value: 0.9909172593457127 and parameters: {'booster': 'dart', 'lambda': 1.9441742037063777e-06, 'alpha': 0.02294323227914202, 'subsample': 0.9577864153819607, 'colsample_bytree': 0.7776267244450796, 'max_depth': 9, 'min_child_weight': 3, 'eta': 5.053444339767064e-08, 'gamma': 0.03782732195097923, 'grow_policy': 'depthwise', 'sample_type': 'weighted', 'normalize_type': 'forest', 'rate_drop': 1.7487430302861285e-06, 'skip_drop': 8.479305521693839e-06}. Best is trial 13 with value: 0.9936430796420859.\n",
      "[I 2023-12-26 16:42:12,978] Trial 48 finished with value: 0.991942666884368 and parameters: {'booster': 'dart', 'lambda': 7.654577653972197e-07, 'alpha': 0.0015649652086914022, 'subsample': 0.8704543157446009, 'colsample_bytree': 0.7459751132889707, 'max_depth': 9, 'min_child_weight': 2, 'eta': 0.01940612686399041, 'gamma': 0.012234381129327397, 'grow_policy': 'lossguide', 'sample_type': 'weighted', 'normalize_type': 'forest', 'rate_drop': 0.00014365991880754695, 'skip_drop': 2.657792682259972e-05}. Best is trial 13 with value: 0.9936430796420859.\n",
      "[I 2023-12-26 16:42:13,128] Trial 49 finished with value: 0.9896014212168615 and parameters: {'booster': 'dart', 'lambda': 0.33252847813259956, 'alpha': 0.11141728035612972, 'subsample': 0.7629213761212668, 'colsample_bytree': 0.8390345433818887, 'max_depth': 9, 'min_child_weight': 4, 'eta': 3.6057098356144237e-07, 'gamma': 0.0042196355038120964, 'grow_policy': 'lossguide', 'sample_type': 'weighted', 'normalize_type': 'forest', 'rate_drop': 3.256392194437866e-05, 'skip_drop': 1.4646568631396408e-06}. Best is trial 13 with value: 0.9936430796420859.\n",
      "[I 2023-12-26 16:42:13,560] Trial 50 finished with value: 0.9912576163209451 and parameters: {'booster': 'dart', 'lambda': 7.756631863858106e-08, 'alpha': 0.0033229867925884103, 'subsample': 0.8417883800322707, 'colsample_bytree': 0.5338763700404985, 'max_depth': 9, 'min_child_weight': 2, 'eta': 0.05790252797774304, 'gamma': 0.2716023287718839, 'grow_policy': 'lossguide', 'sample_type': 'uniform', 'normalize_type': 'forest', 'rate_drop': 1.3500905914091997e-05, 'skip_drop': 0.0001231453596287552}. Best is trial 13 with value: 0.9936430796420859.\n",
      "[I 2023-12-26 16:42:14,014] Trial 51 finished with value: 0.990611911561401 and parameters: {'booster': 'dart', 'lambda': 1.781776149384567e-07, 'alpha': 2.2395236806282401e-07, 'subsample': 0.7900138958358465, 'colsample_bytree': 0.9000041759084151, 'max_depth': 9, 'min_child_weight': 10, 'eta': 0.8597456742565233, 'gamma': 0.0006128993485806768, 'grow_policy': 'lossguide', 'sample_type': 'weighted', 'normalize_type': 'forest', 'rate_drop': 0.34301424860555246, 'skip_drop': 0.09341020579860697}. Best is trial 13 with value: 0.9936430796420859.\n",
      "[I 2023-12-26 16:42:14,184] Trial 52 finished with value: 0.9926254918313739 and parameters: {'booster': 'dart', 'lambda': 4.769666191609686e-07, 'alpha': 1.1281423680293955e-08, 'subsample': 0.8914447237759058, 'colsample_bytree': 0.7988345652072607, 'max_depth': 7, 'min_child_weight': 7, 'eta': 0.3207499045133856, 'gamma': 3.2433483408121244e-05, 'grow_policy': 'lossguide', 'sample_type': 'uniform', 'normalize_type': 'tree', 'rate_drop': 0.00020222075903940866, 'skip_drop': 7.477466002025849e-08}. Best is trial 13 with value: 0.9936430796420859.\n",
      "[I 2023-12-26 16:42:14,438] Trial 53 finished with value: 0.9919603801220145 and parameters: {'booster': 'dart', 'lambda': 2.1766987748654813e-08, 'alpha': 0.0004874288001437814, 'subsample': 0.954824856954624, 'colsample_bytree': 0.8849250865112188, 'max_depth': 9, 'min_child_weight': 2, 'eta': 0.33684261576852015, 'gamma': 1.690568292180716e-08, 'grow_policy': 'lossguide', 'sample_type': 'weighted', 'normalize_type': 'tree', 'rate_drop': 8.811161739118844e-05, 'skip_drop': 0.0038899733750021063}. Best is trial 13 with value: 0.9936430796420859.\n",
      "[I 2023-12-26 16:42:14,481] Trial 54 finished with value: 0.42995861521582457 and parameters: {'booster': 'gblinear', 'lambda': 1.3435184087830381e-06, 'alpha': 0.027968111616805274, 'subsample': 0.8314620227757875, 'colsample_bytree': 0.6789762849031206}. Best is trial 13 with value: 0.9936430796420859.\n",
      "[I 2023-12-26 16:42:14,608] Trial 55 finished with value: 0.9919648425069505 and parameters: {'booster': 'dart', 'lambda': 8.499007173019872e-08, 'alpha': 4.920107881607561e-06, 'subsample': 0.7838488235746911, 'colsample_bytree': 0.9582164171524675, 'max_depth': 5, 'min_child_weight': 3, 'eta': 0.8992330390980773, 'gamma': 0.0027434116638821726, 'grow_policy': 'lossguide', 'sample_type': 'uniform', 'normalize_type': 'forest', 'rate_drop': 1.0277770739663082e-06, 'skip_drop': 1.138878017209955e-07}. Best is trial 13 with value: 0.9936430796420859.\n",
      "[I 2023-12-26 16:42:14,691] Trial 56 finished with value: 0.9902686110844341 and parameters: {'booster': 'gbtree', 'lambda': 2.2005312115318242e-07, 'alpha': 3.024630688348957e-07, 'subsample': 0.9182096955609442, 'colsample_bytree': 0.828159459936153, 'max_depth': 3, 'min_child_weight': 3, 'eta': 0.3579768464784245, 'gamma': 1.0829035889523108e-06, 'grow_policy': 'depthwise'}. Best is trial 13 with value: 0.9936430796420859.\n",
      "[I 2023-12-26 16:42:14,815] Trial 57 finished with value: 0.989249670212096 and parameters: {'booster': 'dart', 'lambda': 5.6339593343956786e-06, 'alpha': 1.7516990336477876e-05, 'subsample': 0.47246974699838284, 'colsample_bytree': 0.7470918985709716, 'max_depth': 7, 'min_child_weight': 9, 'eta': 0.10121082668454055, 'gamma': 5.268679033012754e-06, 'grow_policy': 'lossguide', 'sample_type': 'weighted', 'normalize_type': 'tree', 'rate_drop': 0.043160591087466824, 'skip_drop': 0.0003596479629642382}. Best is trial 13 with value: 0.9936430796420859.\n",
      "[I 2023-12-26 16:42:14,993] Trial 58 finished with value: 0.990571994958862 and parameters: {'booster': 'dart', 'lambda': 4.993010321213579e-07, 'alpha': 8.315111003372451e-06, 'subsample': 0.6388564834618328, 'colsample_bytree': 0.6229275073805042, 'max_depth': 9, 'min_child_weight': 2, 'eta': 0.030561993933114897, 'gamma': 0.00014949736538777853, 'grow_policy': 'lossguide', 'sample_type': 'uniform', 'normalize_type': 'forest', 'rate_drop': 0.004868170377946973, 'skip_drop': 0.0009351091358048228}. Best is trial 13 with value: 0.9936430796420859.\n",
      "[I 2023-12-26 16:42:15,090] Trial 59 finished with value: 0.991951566307308 and parameters: {'booster': 'gbtree', 'lambda': 3.8632503800328804e-08, 'alpha': 5.949046490834532e-08, 'subsample': 0.7547580036947219, 'colsample_bytree': 0.9291476969396133, 'max_depth': 5, 'min_child_weight': 5, 'eta': 0.9265983486536573, 'gamma': 0.0013670919019252855, 'grow_policy': 'lossguide'}. Best is trial 13 with value: 0.9936430796420859.\n",
      "[I 2023-12-26 16:42:15,182] Trial 60 finished with value: 0.9892596492200191 and parameters: {'booster': 'dart', 'lambda': 1.3917710416308307e-07, 'alpha': 2.308968522772643e-08, 'subsample': 0.8619353035003114, 'colsample_bytree': 0.701676329620919, 'max_depth': 3, 'min_child_weight': 2, 'eta': 0.004299107843842325, 'gamma': 0.011497990184876117, 'grow_policy': 'lossguide', 'sample_type': 'weighted', 'normalize_type': 'tree', 'rate_drop': 0.0007720957917513475, 'skip_drop': 3.8270969122165185e-05}. Best is trial 13 with value: 0.9936430796420859.\n",
      "[I 2023-12-26 16:42:15,317] Trial 61 finished with value: 0.9926421978798586 and parameters: {'booster': 'dart', 'lambda': 9.094563080674309e-07, 'alpha': 0.0001500552416844757, 'subsample': 0.7216305697891282, 'colsample_bytree': 0.7642733652607291, 'max_depth': 7, 'min_child_weight': 2, 'eta': 0.373734535680142, 'gamma': 0.00012445747364452575, 'grow_policy': 'lossguide', 'sample_type': 'weighted', 'normalize_type': 'forest', 'rate_drop': 0.0021670519692692353, 'skip_drop': 0.00022756382827247867}. Best is trial 13 with value: 0.9936430796420859.\n",
      "[I 2023-12-26 16:42:15,457] Trial 62 finished with value: 0.9926338847387793 and parameters: {'booster': 'dart', 'lambda': 2.0529105500085853e-06, 'alpha': 0.0001835149333053117, 'subsample': 0.6772098929842046, 'colsample_bytree': 0.7809989703400557, 'max_depth': 7, 'min_child_weight': 2, 'eta': 0.36648102728487786, 'gamma': 1.0618188206695425e-07, 'grow_policy': 'lossguide', 'sample_type': 'weighted', 'normalize_type': 'forest', 'rate_drop': 0.00010635039811103308, 'skip_drop': 0.0024258446795341324}. Best is trial 13 with value: 0.9936430796420859.\n",
      "[I 2023-12-26 16:42:15,597] Trial 63 finished with value: 0.992283422019004 and parameters: {'booster': 'dart', 'lambda': 8.072394241518924e-07, 'alpha': 0.0013898157585731795, 'subsample': 0.7049836226770222, 'colsample_bytree': 0.8434293092586611, 'max_depth': 7, 'min_child_weight': 3, 'eta': 0.14584935984882472, 'gamma': 2.5510801880587072e-05, 'grow_policy': 'lossguide', 'sample_type': 'weighted', 'normalize_type': 'forest', 'rate_drop': 0.035682297029495054, 'skip_drop': 7.0538186313476855e-06}. Best is trial 13 with value: 0.9936430796420859.\n",
      "[I 2023-12-26 16:42:15,816] Trial 64 finished with value: 0.9929730607005138 and parameters: {'booster': 'dart', 'lambda': 6.580041695710404e-08, 'alpha': 9.009990633890553e-05, 'subsample': 0.5759649562425355, 'colsample_bytree': 0.7362551826833046, 'max_depth': 7, 'min_child_weight': 2, 'eta': 0.48256091004390866, 'gamma': 0.00039994000195392796, 'grow_policy': 'lossguide', 'sample_type': 'weighted', 'normalize_type': 'forest', 'rate_drop': 0.0033962691546967935, 'skip_drop': 0.00017188313593304182}. Best is trial 13 with value: 0.9936430796420859.\n",
      "[I 2023-12-26 16:42:23,022] Trial 65 finished with value: 0.9919445394924437 and parameters: {'booster': 'dart', 'lambda': 3.088375920139322e-07, 'alpha': 2.5635779381452376e-05, 'subsample': 0.5498374442829458, 'colsample_bytree': 0.7280355982800935, 'max_depth': 7, 'min_child_weight': 2, 'eta': 0.4352062497564662, 'gamma': 0.00040745161599381246, 'grow_policy': 'lossguide', 'sample_type': 'weighted', 'normalize_type': 'forest', 'rate_drop': 0.0034110151248818773, 'skip_drop': 0.00013035534465687126}. Best is trial 13 with value: 0.9936430796420859.\n",
      "[I 2023-12-26 16:42:23,286] Trial 66 finished with value: 0.991942666884368 and parameters: {'booster': 'dart', 'lambda': 6.867612022405496e-08, 'alpha': 0.00012241667762382508, 'subsample': 0.5780770907632589, 'colsample_bytree': 0.8102151169744596, 'max_depth': 7, 'min_child_weight': 3, 'eta': 0.04204540362532335, 'gamma': 0.0018872608365110965, 'grow_policy': 'lossguide', 'sample_type': 'weighted', 'normalize_type': 'forest', 'rate_drop': 0.0009071407092308148, 'skip_drop': 1.7911424087165154e-05}. Best is trial 13 with value: 0.9936430796420859.\n",
      "[I 2023-12-26 16:42:23,416] Trial 67 finished with value: 0.992283422019004 and parameters: {'booster': 'dart', 'lambda': 1.723523006744552e-08, 'alpha': 0.0003075855692251589, 'subsample': 0.5984904146452164, 'colsample_bytree': 0.6652278038986403, 'max_depth': 7, 'min_child_weight': 2, 'eta': 0.24784765146820345, 'gamma': 0.005759074867314577, 'grow_policy': 'depthwise', 'sample_type': 'weighted', 'normalize_type': 'forest', 'rate_drop': 0.0004490117636284005, 'skip_drop': 0.00029586074311886755}. Best is trial 13 with value: 0.9936430796420859.\n",
      "[I 2023-12-26 16:42:23,516] Trial 68 finished with value: 0.9899350041322794 and parameters: {'booster': 'dart', 'lambda': 6.216502711281777e-05, 'alpha': 7.951765186161832e-05, 'subsample': 0.25793006032596827, 'colsample_bytree': 0.7542899675011182, 'max_depth': 5, 'min_child_weight': 2, 'eta': 0.09117973060346253, 'gamma': 9.18245346437337e-05, 'grow_policy': 'lossguide', 'sample_type': 'weighted', 'normalize_type': 'forest', 'rate_drop': 0.011584747817500922, 'skip_drop': 4.674292282152699e-05}. Best is trial 13 with value: 0.9936430796420859.\n",
      "[I 2023-12-26 16:42:23,564] Trial 69 finished with value: 0.9356297212399535 and parameters: {'booster': 'gblinear', 'lambda': 9.095163515040105e-07, 'alpha': 2.2631655139354644e-06, 'subsample': 0.4781600721663921, 'colsample_bytree': 0.7353744074476668}. Best is trial 13 with value: 0.9936430796420859.\n",
      "[I 2023-12-26 16:42:23,691] Trial 70 finished with value: 0.9929651964376653 and parameters: {'booster': 'dart', 'lambda': 0.00038920076450290014, 'alpha': 1.0603966866136655e-06, 'subsample': 0.9752433213233677, 'colsample_bytree': 0.7889193945869132, 'max_depth': 7, 'min_child_weight': 3, 'eta': 0.4977028924498323, 'gamma': 0.0005494011862003314, 'grow_policy': 'lossguide', 'sample_type': 'weighted', 'normalize_type': 'forest', 'rate_drop': 0.1586094734384053, 'skip_drop': 0.0010223244015039681}. Best is trial 13 with value: 0.9936430796420859.\n",
      "[I 2023-12-26 16:42:23,861] Trial 71 finished with value: 0.9929651964376653 and parameters: {'booster': 'dart', 'lambda': 0.0005633917357233565, 'alpha': 1.1060224659264644e-05, 'subsample': 0.9815619767983964, 'colsample_bytree': 0.7895622854462101, 'max_depth': 7, 'min_child_weight': 3, 'eta': 0.48838765108695326, 'gamma': 0.00017510555264317834, 'grow_policy': 'lossguide', 'sample_type': 'weighted', 'normalize_type': 'forest', 'rate_drop': 0.1281317116834685, 'skip_drop': 0.0009100875357571875}. Best is trial 13 with value: 0.9936430796420859.\n",
      "[I 2023-12-26 16:42:23,990] Trial 72 finished with value: 0.9912595890672347 and parameters: {'booster': 'dart', 'lambda': 0.0004434558488325289, 'alpha': 1.0128746856724783e-06, 'subsample': 0.9776158800315796, 'colsample_bytree': 0.8270604564912921, 'max_depth': 7, 'min_child_weight': 4, 'eta': 0.18122352780767392, 'gamma': 0.0005800936208619213, 'grow_policy': 'lossguide', 'sample_type': 'weighted', 'normalize_type': 'forest', 'rate_drop': 0.8888465526778692, 'skip_drop': 0.0008952819982241729}. Best is trial 13 with value: 0.9936430796420859.\n",
      "[I 2023-12-26 16:42:24,126] Trial 73 finished with value: 0.9933043912411427 and parameters: {'booster': 'dart', 'lambda': 0.0058966667114869, 'alpha': 1.0488077248797078e-05, 'subsample': 0.9771599557918701, 'colsample_bytree': 0.7911537144126375, 'max_depth': 7, 'min_child_weight': 3, 'eta': 0.46641537942661393, 'gamma': 0.0003196128239620695, 'grow_policy': 'lossguide', 'sample_type': 'weighted', 'normalize_type': 'forest', 'rate_drop': 0.10365465984305462, 'skip_drop': 0.0013768904333714286}. Best is trial 13 with value: 0.9936430796420859.\n",
      "[I 2023-12-26 16:42:31,440] Trial 74 finished with value: 0.9929651964376653 and parameters: {'booster': 'dart', 'lambda': 0.01595897466108258, 'alpha': 1.2316883498719458e-05, 'subsample': 0.9767788209148939, 'colsample_bytree': 0.7784981032993099, 'max_depth': 7, 'min_child_weight': 4, 'eta': 0.5018146797610078, 'gamma': 0.0002458888748251245, 'grow_policy': 'lossguide', 'sample_type': 'weighted', 'normalize_type': 'forest', 'rate_drop': 0.1534070701719775, 'skip_drop': 0.008509927112792677}. Best is trial 13 with value: 0.9936430796420859.\n",
      "[I 2023-12-26 16:42:43,041] Trial 75 finished with value: 0.9919540035982075 and parameters: {'booster': 'dart', 'lambda': 0.005437709016192633, 'alpha': 2.9070736953336586e-05, 'subsample': 0.9230921271356645, 'colsample_bytree': 0.6965367135774944, 'max_depth': 7, 'min_child_weight': 3, 'eta': 0.4625861367728122, 'gamma': 0.00023291614050769064, 'grow_policy': 'lossguide', 'sample_type': 'weighted', 'normalize_type': 'forest', 'rate_drop': 0.12943223068854162, 'skip_drop': 0.013418200359335816}. Best is trial 13 with value: 0.9936430796420859.\n",
      "[I 2023-12-26 16:42:46,880] Trial 76 finished with value: 0.991951566307308 and parameters: {'booster': 'dart', 'lambda': 0.00291414483391387, 'alpha': 1.1928331752132759e-05, 'subsample': 0.9403217187662734, 'colsample_bytree': 0.7869697464943418, 'max_depth': 7, 'min_child_weight': 4, 'eta': 0.12835707815408143, 'gamma': 0.001120819674682153, 'grow_policy': 'lossguide', 'sample_type': 'weighted', 'normalize_type': 'forest', 'rate_drop': 0.11798018268715044, 'skip_drop': 0.0009953446074627212}. Best is trial 13 with value: 0.9936430796420859.\n",
      "[I 2023-12-26 16:42:47,982] Trial 77 finished with value: 0.9916013904028987 and parameters: {'booster': 'dart', 'lambda': 0.03300127126952119, 'alpha': 6.222306081424386e-06, 'subsample': 0.9859693188935685, 'colsample_bytree': 0.8652010655178446, 'max_depth': 7, 'min_child_weight': 3, 'eta': 0.2189340451266301, 'gamma': 0.00033287330980369395, 'grow_policy': 'lossguide', 'sample_type': 'weighted', 'normalize_type': 'forest', 'rate_drop': 0.2779534381619948, 'skip_drop': 0.0056057185761061775}. Best is trial 13 with value: 0.9936430796420859.\n",
      "[I 2023-12-26 16:42:54,148] Trial 78 finished with value: 0.9909278016162404 and parameters: {'booster': 'dart', 'lambda': 0.00023519393369939555, 'alpha': 2.2223720600267285e-06, 'subsample': 0.9073844282215272, 'colsample_bytree': 0.8502298220237583, 'max_depth': 7, 'min_child_weight': 4, 'eta': 0.01638354099820049, 'gamma': 4.147144493673052e-05, 'grow_policy': 'lossguide', 'sample_type': 'weighted', 'normalize_type': 'forest', 'rate_drop': 0.04747286120244363, 'skip_drop': 0.0017647981682990493}. Best is trial 13 with value: 0.9936430796420859.\n",
      "[I 2023-12-26 16:43:02,385] Trial 79 finished with value: 0.9916013904028987 and parameters: {'booster': 'dart', 'lambda': 0.010504903025729045, 'alpha': 1.2290564087356884e-06, 'subsample': 0.9995230800426755, 'colsample_bytree': 0.7208552818872676, 'max_depth': 5, 'min_child_weight': 3, 'eta': 0.052399236831664434, 'gamma': 0.003335419218140739, 'grow_policy': 'lossguide', 'sample_type': 'weighted', 'normalize_type': 'forest', 'rate_drop': 0.09039942262633252, 'skip_drop': 0.0005536216259241653}. Best is trial 13 with value: 0.9936430796420859.\n",
      "[I 2023-12-26 16:43:06,536] Trial 80 finished with value: 0.991269578951706 and parameters: {'booster': 'dart', 'lambda': 0.001908262113522654, 'alpha': 4.944966375157085e-05, 'subsample': 0.9390802581476088, 'colsample_bytree': 0.822780893038173, 'max_depth': 7, 'min_child_weight': 4, 'eta': 0.5636540199352557, 'gamma': 0.000880897436054926, 'grow_policy': 'lossguide', 'sample_type': 'weighted', 'normalize_type': 'forest', 'rate_drop': 0.7858544478308864, 'skip_drop': 0.030210419238853307}. Best is trial 13 with value: 0.9936430796420859.\n",
      "[I 2023-12-26 16:43:17,874] Trial 81 finished with value: 0.9926338847387793 and parameters: {'booster': 'dart', 'lambda': 0.007548028628718371, 'alpha': 1.199024805160779e-05, 'subsample': 0.9654922243678137, 'colsample_bytree': 0.7935566483265105, 'max_depth': 9, 'min_child_weight': 3, 'eta': 0.5846421253468274, 'gamma': 0.00019339093924716303, 'grow_policy': 'lossguide', 'sample_type': 'weighted', 'normalize_type': 'forest', 'rate_drop': 0.19391804165006787, 'skip_drop': 0.0034532269317882774}. Best is trial 13 with value: 0.9936430796420859.\n",
      "[I 2023-12-26 16:43:24,934] Trial 82 finished with value: 0.9926169864498331 and parameters: {'booster': 'dart', 'lambda': 0.2924675172645551, 'alpha': 3.0024432189837992e-06, 'subsample': 0.9349919867638159, 'colsample_bytree': 0.7965875676726136, 'max_depth': 7, 'min_child_weight': 3, 'eta': 0.997807153711195, 'gamma': 6.78950130298051e-05, 'grow_policy': 'lossguide', 'sample_type': 'weighted', 'normalize_type': 'forest', 'rate_drop': 0.018054507180293076, 'skip_drop': 0.011199697717421695}. Best is trial 13 with value: 0.9936430796420859.\n",
      "[I 2023-12-26 16:43:38,402] Trial 83 finished with value: 0.9929633821570217 and parameters: {'booster': 'dart', 'lambda': 0.0006912993664224902, 'alpha': 7.962464373556517e-06, 'subsample': 0.9674993323284279, 'colsample_bytree': 0.7533257876078006, 'max_depth': 9, 'min_child_weight': 3, 'eta': 0.2668219674451165, 'gamma': 0.0017368506362592246, 'grow_policy': 'lossguide', 'sample_type': 'weighted', 'normalize_type': 'forest', 'rate_drop': 0.08570359281807086, 'skip_drop': 0.0015637832494314282}. Best is trial 13 with value: 0.9936430796420859.\n",
      "[I 2023-12-26 16:43:42,085] Trial 84 finished with value: 0.9922762623645602 and parameters: {'booster': 'dart', 'lambda': 0.0006821044054837468, 'alpha': 7.3088984493037666e-06, 'subsample': 0.8938542625678467, 'colsample_bytree': 0.7522103686260769, 'max_depth': 9, 'min_child_weight': 5, 'eta': 0.23513373438210572, 'gamma': 0.001684007679181357, 'grow_policy': 'lossguide', 'sample_type': 'weighted', 'normalize_type': 'forest', 'rate_drop': 0.06971461779589042, 'skip_drop': 0.0014118997901982407}. Best is trial 13 with value: 0.9936430796420859.\n",
      "[I 2023-12-26 16:43:56,033] Trial 85 finished with value: 0.991942666884368 and parameters: {'booster': 'dart', 'lambda': 0.00026695095530681034, 'alpha': 1.7310724341108586e-05, 'subsample': 0.97778518196242, 'colsample_bytree': 0.7689133304062316, 'max_depth': 7, 'min_child_weight': 3, 'eta': 0.1194005560267586, 'gamma': 0.0003332722315655868, 'grow_policy': 'lossguide', 'sample_type': 'weighted', 'normalize_type': 'forest', 'rate_drop': 0.49226066416944575, 'skip_drop': 0.0006360855026471779}. Best is trial 13 with value: 0.9936430796420859.\n",
      "[I 2023-12-26 16:43:56,771] Trial 86 finished with value: 0.38348956519422767 and parameters: {'booster': 'gblinear', 'lambda': 0.08232067218228978, 'alpha': 6.131382888876279e-05, 'subsample': 0.9497094740233302, 'colsample_bytree': 0.8837395107907379}. Best is trial 13 with value: 0.9936430796420859.\n",
      "[I 2023-12-26 16:44:01,166] Trial 87 finished with value: 0.9926338847387793 and parameters: {'booster': 'dart', 'lambda': 0.0017100339568160174, 'alpha': 3.581169019850668e-05, 'subsample': 0.8754471829327782, 'colsample_bytree': 0.7115075656401393, 'max_depth': 5, 'min_child_weight': 4, 'eta': 0.5211413405826291, 'gamma': 0.006771941323590744, 'grow_policy': 'depthwise', 'sample_type': 'weighted', 'normalize_type': 'forest', 'rate_drop': 0.024336972002951634, 'skip_drop': 0.007544874290562721}. Best is trial 13 with value: 0.9936430796420859.\n",
      "[I 2023-12-26 16:44:08,299] Trial 88 finished with value: 0.9912794733245313 and parameters: {'booster': 'dart', 'lambda': 0.0035974728790869118, 'alpha': 4.132249359212187e-06, 'subsample': 0.912061986408769, 'colsample_bytree': 0.6398682837117282, 'max_depth': 7, 'min_child_weight': 3, 'eta': 0.22382162960982285, 'gamma': 0.0008350030365488208, 'grow_policy': 'lossguide', 'sample_type': 'weighted', 'normalize_type': 'forest', 'rate_drop': 0.16894185353991875, 'skip_drop': 0.030587428645556712}. Best is trial 13 with value: 0.9936430796420859.\n",
      "[I 2023-12-26 16:44:16,683] Trial 89 finished with value: 0.9936430796420859 and parameters: {'booster': 'dart', 'lambda': 0.01780592624304155, 'alpha': 0.0007303091257414889, 'subsample': 0.9848115381190186, 'colsample_bytree': 0.6793619449209396, 'max_depth': 9, 'min_child_weight': 3, 'eta': 0.576369786502053, 'gamma': 0.0004875596051727713, 'grow_policy': 'lossguide', 'sample_type': 'weighted', 'normalize_type': 'forest', 'rate_drop': 0.008615767487329945, 'skip_drop': 0.0020125690455876145}. Best is trial 13 with value: 0.9936430796420859.\n",
      "[I 2023-12-26 16:44:21,297] Trial 90 finished with value: 0.991942666884368 and parameters: {'booster': 'dart', 'lambda': 0.05786871045223411, 'alpha': 0.00053718354339886, 'subsample': 0.9716414133688704, 'colsample_bytree': 0.739172609188165, 'max_depth': 7, 'min_child_weight': 3, 'eta': 0.07092732764378976, 'gamma': 0.0005033246138519569, 'grow_policy': 'lossguide', 'sample_type': 'weighted', 'normalize_type': 'forest', 'rate_drop': 0.34876111122052794, 'skip_drop': 0.0027966978742773583}. Best is trial 13 with value: 0.9936430796420859.\n",
      "[I 2023-12-26 16:44:31,029] Trial 91 finished with value: 0.9919540035982075 and parameters: {'booster': 'dart', 'lambda': 0.013858128927029423, 'alpha': 0.00032167108267673855, 'subsample': 0.9968291037710795, 'colsample_bytree': 0.6801673625586232, 'max_depth': 9, 'min_child_weight': 3, 'eta': 0.39126325488027286, 'gamma': 0.002486627246736832, 'grow_policy': 'lossguide', 'sample_type': 'weighted', 'normalize_type': 'forest', 'rate_drop': 0.010296642179233767, 'skip_drop': 0.001585843333425919}. Best is trial 13 with value: 0.9936430796420859.\n",
      "[I 2023-12-26 16:44:31,310] Trial 92 finished with value: 0.9936364333731208 and parameters: {'booster': 'dart', 'lambda': 0.00022261310410597436, 'alpha': 0.0016023764796967346, 'subsample': 0.9651852955124297, 'colsample_bytree': 0.773143132278591, 'max_depth': 9, 'min_child_weight': 4, 'eta': 0.6768510803009391, 'gamma': 0.00014125932288250933, 'grow_policy': 'lossguide', 'sample_type': 'weighted', 'normalize_type': 'forest', 'rate_drop': 0.07101866482476077, 'skip_drop': 0.00020801626777846682}. Best is trial 13 with value: 0.9936430796420859.\n",
      "[I 2023-12-26 16:44:31,450] Trial 93 finished with value: 0.9926254918313739 and parameters: {'booster': 'dart', 'lambda': 0.00018567128898935116, 'alpha': 0.0014001729294285167, 'subsample': 0.9605249051376794, 'colsample_bytree': 0.769790908130602, 'max_depth': 9, 'min_child_weight': 4, 'eta': 0.5244588959237974, 'gamma': 0.00010280202695644144, 'grow_policy': 'lossguide', 'sample_type': 'weighted', 'normalize_type': 'forest', 'rate_drop': 0.09543824251939755, 'skip_drop': 0.0002815441284805899}. Best is trial 13 with value: 0.9936430796420859.\n",
      "[I 2023-12-26 16:44:31,604] Trial 94 finished with value: 0.9922762623645602 and parameters: {'booster': 'dart', 'lambda': 9.278768711054082e-05, 'alpha': 8.719713371129566e-05, 'subsample': 0.9045863038705223, 'colsample_bytree': 0.7880261276084594, 'max_depth': 9, 'min_child_weight': 4, 'eta': 0.24517167651391303, 'gamma': 0.00019269536734119202, 'grow_policy': 'lossguide', 'sample_type': 'weighted', 'normalize_type': 'forest', 'rate_drop': 0.06507573163992102, 'skip_drop': 0.00017523836531438075}. Best is trial 13 with value: 0.9936430796420859.\n",
      "[I 2023-12-26 16:44:31,731] Trial 95 finished with value: 0.991610832683769 and parameters: {'booster': 'dart', 'lambda': 0.0004726948826014085, 'alpha': 0.0017217037266649747, 'subsample': 0.9376138853827066, 'colsample_bytree': 0.8183511391676492, 'max_depth': 9, 'min_child_weight': 5, 'eta': 0.0008789947327989547, 'gamma': 0.00028151620280551527, 'grow_policy': 'lossguide', 'sample_type': 'uniform', 'normalize_type': 'forest', 'rate_drop': 0.02665912451091278, 'skip_drop': 8.452227415765823e-05}. Best is trial 13 with value: 0.9936430796420859.\n",
      "[I 2023-12-26 16:44:31,875] Trial 96 finished with value: 0.992283422019004 and parameters: {'booster': 'dart', 'lambda': 0.0008602494921407541, 'alpha': 0.0008604417070822637, 'subsample': 0.9856784859196008, 'colsample_bytree': 0.7253243320836039, 'max_depth': 9, 'min_child_weight': 2, 'eta': 0.15272683440969556, 'gamma': 0.0005688345950497064, 'grow_policy': 'lossguide', 'sample_type': 'weighted', 'normalize_type': 'tree', 'rate_drop': 0.24283564952325806, 'skip_drop': 0.0004836409197562188}. Best is trial 13 with value: 0.9936430796420859.\n",
      "[I 2023-12-26 16:44:32,025] Trial 97 finished with value: 0.990611911561401 and parameters: {'booster': 'dart', 'lambda': 0.0014532362429053598, 'alpha': 0.00021404817018732695, 'subsample': 0.8523907952135468, 'colsample_bytree': 0.6849255180130317, 'max_depth': 9, 'min_child_weight': 4, 'eta': 0.6314558341784519, 'gamma': 0.0011587956382395296, 'grow_policy': 'lossguide', 'sample_type': 'weighted', 'normalize_type': 'forest', 'rate_drop': 0.5218674892905679, 'skip_drop': 0.0010773702334460674}. Best is trial 13 with value: 0.9936430796420859.\n",
      "[I 2023-12-26 16:44:32,133] Trial 98 finished with value: 0.9919540035982075 and parameters: {'booster': 'dart', 'lambda': 3.731231829904109e-05, 'alpha': 0.0028308957733097907, 'subsample': 0.9274453261095609, 'colsample_bytree': 0.6607653308315543, 'max_depth': 5, 'min_child_weight': 3, 'eta': 0.3051618185410515, 'gamma': 0.000150685488861083, 'grow_policy': 'lossguide', 'sample_type': 'weighted', 'normalize_type': 'forest', 'rate_drop': 0.16079728997676512, 'skip_drop': 8.032042190553993e-05}. Best is trial 13 with value: 0.9936430796420859.\n",
      "[I 2023-12-26 16:44:32,256] Trial 99 finished with value: 0.9936364333731208 and parameters: {'booster': 'dart', 'lambda': 0.018810365321195784, 'alpha': 2.2562143930519387e-05, 'subsample': 0.9535349950347516, 'colsample_bytree': 0.7046580640454794, 'max_depth': 7, 'min_child_weight': 2, 'eta': 0.9665667296681555, 'gamma': 4.5212237811548564e-05, 'grow_policy': 'lossguide', 'sample_type': 'weighted', 'normalize_type': 'forest', 'rate_drop': 2.451205180292579e-05, 'skip_drop': 0.0004287368708169928}. Best is trial 13 with value: 0.9936430796420859.\n"
     ]
    },
    {
     "name": "stdout",
     "output_type": "stream",
     "text": [
      "Number of finished trials:  100\n",
      "Best trial:\n",
      "  Value: 0.9936430796420859\n",
      "  Params: \n",
      "    booster: dart\n",
      "    lambda: 1.960228257382407e-07\n",
      "    alpha: 7.43949991679402e-06\n",
      "    subsample: 0.8154880895527705\n",
      "    colsample_bytree: 0.7907267043492003\n",
      "    max_depth: 5\n",
      "    min_child_weight: 2\n",
      "    eta: 0.8646827155464566\n",
      "    gamma: 0.000589744964364003\n",
      "    grow_policy: lossguide\n",
      "    sample_type: weighted\n",
      "    normalize_type: forest\n",
      "    rate_drop: 8.167529248189773e-05\n",
      "    skip_drop: 5.945705496428493e-06\n"
     ]
    }
   ],
   "source": [
    "study = optuna.create_study(direction=\"maximize\")\n",
    "study.optimize(objective, n_trials=100, timeout=600)\n",
    "\n",
    "print(\"Number of finished trials: \", len(study.trials))\n",
    "print(\"Best trial:\")\n",
    "trial = study.best_trial\n",
    "\n",
    "print(\"  Value: {}\".format(trial.value))\n",
    "print(\"  Params: \")\n",
    "for key, value in trial.params.items():\n",
    "    print(\"    {}: {}\".format(key, value))"
   ]
  },
  {
   "cell_type": "code",
   "execution_count": null,
   "id": "032cfc16-9362-4717-9e26-f97f9b92e65f",
   "metadata": {},
   "outputs": [],
   "source": []
  }
 ],
 "metadata": {
  "kernelspec": {
   "display_name": "Python 3 (ipykernel)",
   "language": "python",
   "name": "python3"
  },
  "language_info": {
   "codemirror_mode": {
    "name": "ipython",
    "version": 3
   },
   "file_extension": ".py",
   "mimetype": "text/x-python",
   "name": "python",
   "nbconvert_exporter": "python",
   "pygments_lexer": "ipython3",
   "version": "3.10.13"
  }
 },
 "nbformat": 4,
 "nbformat_minor": 5
}

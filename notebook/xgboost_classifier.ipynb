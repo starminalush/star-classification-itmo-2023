{
 "cells": [
  {
   "cell_type": "code",
   "execution_count": 1,
   "id": "6e2ef1a8-859c-4d32-910e-ba7aa866a940",
   "metadata": {},
   "outputs": [],
   "source": [
    "import warnings\n",
    "\n",
    "warnings.filterwarnings('ignore')"
   ]
  },
  {
   "cell_type": "code",
   "execution_count": 2,
   "id": "2142c4b6-b39a-4200-9188-4dc19e885211",
   "metadata": {},
   "outputs": [],
   "source": [
    "import os\n",
    "import random\n",
    "from statistics import mode\n",
    "import optuna\n",
    "\n",
    "import pandas as pd\n",
    "import xgboost as xgb\n",
    "from sklearn.experimental import enable_halving_search_cv\n",
    "import numpy as np\n",
    "from sklearn.metrics import (ConfusionMatrixDisplay, classification_report,\n",
    "                             confusion_matrix, f1_score, precision_score,\n",
    "                             recall_score)\n",
    "from sklearn.model_selection import train_test_split, HalvingGridSearchCV\n",
    "from sklearn.preprocessing import LabelEncoder, StandardScaler\n",
    "from sklearn.model_selection import GridSearchCV\n",
    "from xgboost import XGBClassifier\n",
    "import optuna\n",
    "from xgboost import XGBClassifier\n",
    "import matplotlib.pyplot as plt\n",
    "import shap\n",
    "from optuna.integration import OptunaSearchCV\n",
    "from sklearn.model_selection import StratifiedKFold\n",
    "from sklearn.metrics import f1_score\n",
    "from xgboost import XGBClassifier"
   ]
  },
  {
   "cell_type": "code",
   "execution_count": 3,
   "id": "4568756c-5985-451f-a31e-c2b81214dbae",
   "metadata": {},
   "outputs": [],
   "source": [
    "RANDOM_SEED=42\n",
    "random.seed(RANDOM_SEED)\n",
    "os.environ[\"PYTHONHASHSEED\"] = str(RANDOM_SEED)"
   ]
  },
  {
   "cell_type": "markdown",
   "id": "14d42acd-2230-4953-9155-b5b7c3a8c8f7",
   "metadata": {},
   "source": [
    "## Датасет"
   ]
  },
  {
   "cell_type": "code",
   "execution_count": 4,
   "id": "0a021d52-0e41-4347-b2f0-cb9b6de721bb",
   "metadata": {},
   "outputs": [],
   "source": [
    "df = pd.read_csv('../data/Skyserver_SQL2_27_2018 6_51_39 PM.csv')"
   ]
  },
  {
   "cell_type": "markdown",
   "id": "94ff2d09-2834-4aef-9984-10591109d6c5",
   "metadata": {},
   "source": [
    "Удаляем неинформативные колонки"
   ]
  },
  {
   "cell_type": "code",
   "execution_count": 5,
   "id": "1901fc51-2b9d-410e-89a7-aaa6ad16cef9",
   "metadata": {},
   "outputs": [],
   "source": [
    "df.drop(columns=['objid', 'run', 'rerun', 'camcol', 'field', 'specobjid', 'fiberid', 'plate', 'mjd'], inplace=True)"
   ]
  },
  {
   "cell_type": "code",
   "execution_count": 6,
   "id": "ad03762a-8877-483d-bd0f-7a691fd4051d",
   "metadata": {},
   "outputs": [
    {
     "data": {
      "text/html": [
       "<div>\n",
       "<style scoped>\n",
       "    .dataframe tbody tr th:only-of-type {\n",
       "        vertical-align: middle;\n",
       "    }\n",
       "\n",
       "    .dataframe tbody tr th {\n",
       "        vertical-align: top;\n",
       "    }\n",
       "\n",
       "    .dataframe thead th {\n",
       "        text-align: right;\n",
       "    }\n",
       "</style>\n",
       "<table border=\"1\" class=\"dataframe\">\n",
       "  <thead>\n",
       "    <tr style=\"text-align: right;\">\n",
       "      <th></th>\n",
       "      <th>ra</th>\n",
       "      <th>dec</th>\n",
       "      <th>u</th>\n",
       "      <th>g</th>\n",
       "      <th>r</th>\n",
       "      <th>i</th>\n",
       "      <th>z</th>\n",
       "      <th>class</th>\n",
       "      <th>redshift</th>\n",
       "    </tr>\n",
       "  </thead>\n",
       "  <tbody>\n",
       "    <tr>\n",
       "      <th>0</th>\n",
       "      <td>183.531326</td>\n",
       "      <td>0.089693</td>\n",
       "      <td>19.47406</td>\n",
       "      <td>17.04240</td>\n",
       "      <td>15.94699</td>\n",
       "      <td>15.50342</td>\n",
       "      <td>15.22531</td>\n",
       "      <td>STAR</td>\n",
       "      <td>-0.000009</td>\n",
       "    </tr>\n",
       "    <tr>\n",
       "      <th>1</th>\n",
       "      <td>183.598370</td>\n",
       "      <td>0.135285</td>\n",
       "      <td>18.66280</td>\n",
       "      <td>17.21449</td>\n",
       "      <td>16.67637</td>\n",
       "      <td>16.48922</td>\n",
       "      <td>16.39150</td>\n",
       "      <td>STAR</td>\n",
       "      <td>-0.000055</td>\n",
       "    </tr>\n",
       "    <tr>\n",
       "      <th>2</th>\n",
       "      <td>183.680207</td>\n",
       "      <td>0.126185</td>\n",
       "      <td>19.38298</td>\n",
       "      <td>18.19169</td>\n",
       "      <td>17.47428</td>\n",
       "      <td>17.08732</td>\n",
       "      <td>16.80125</td>\n",
       "      <td>GALAXY</td>\n",
       "      <td>0.123111</td>\n",
       "    </tr>\n",
       "    <tr>\n",
       "      <th>3</th>\n",
       "      <td>183.870529</td>\n",
       "      <td>0.049911</td>\n",
       "      <td>17.76536</td>\n",
       "      <td>16.60272</td>\n",
       "      <td>16.16116</td>\n",
       "      <td>15.98233</td>\n",
       "      <td>15.90438</td>\n",
       "      <td>STAR</td>\n",
       "      <td>-0.000111</td>\n",
       "    </tr>\n",
       "    <tr>\n",
       "      <th>4</th>\n",
       "      <td>183.883288</td>\n",
       "      <td>0.102557</td>\n",
       "      <td>17.55025</td>\n",
       "      <td>16.26342</td>\n",
       "      <td>16.43869</td>\n",
       "      <td>16.55492</td>\n",
       "      <td>16.61326</td>\n",
       "      <td>STAR</td>\n",
       "      <td>0.000590</td>\n",
       "    </tr>\n",
       "  </tbody>\n",
       "</table>\n",
       "</div>"
      ],
      "text/plain": [
       "           ra       dec         u         g         r         i         z  \\\n",
       "0  183.531326  0.089693  19.47406  17.04240  15.94699  15.50342  15.22531   \n",
       "1  183.598370  0.135285  18.66280  17.21449  16.67637  16.48922  16.39150   \n",
       "2  183.680207  0.126185  19.38298  18.19169  17.47428  17.08732  16.80125   \n",
       "3  183.870529  0.049911  17.76536  16.60272  16.16116  15.98233  15.90438   \n",
       "4  183.883288  0.102557  17.55025  16.26342  16.43869  16.55492  16.61326   \n",
       "\n",
       "    class  redshift  \n",
       "0    STAR -0.000009  \n",
       "1    STAR -0.000055  \n",
       "2  GALAXY  0.123111  \n",
       "3    STAR -0.000111  \n",
       "4    STAR  0.000590  "
      ]
     },
     "execution_count": 6,
     "metadata": {},
     "output_type": "execute_result"
    }
   ],
   "source": [
    "df.head()"
   ]
  },
  {
   "cell_type": "markdown",
   "id": "1e0be393-159f-415b-a4b5-5f8f393a4981",
   "metadata": {},
   "source": [
    "## Обучение"
   ]
  },
  {
   "cell_type": "markdown",
   "id": "2b4dbb6a-c045-438c-84b0-3c66c645d9df",
   "metadata": {},
   "source": [
    "У нас задача - предсказать класс, поэтому разобьем датасет на фичи и целевую метку"
   ]
  },
  {
   "cell_type": "code",
   "execution_count": 7,
   "id": "ef559c86-4deb-4fa5-8651-29d675ab4109",
   "metadata": {},
   "outputs": [],
   "source": [
    "X = df.drop(columns=['class'])\n",
    "y = df['class']"
   ]
  },
  {
   "cell_type": "markdown",
   "id": "9742319b-0b28-4b1e-8c0b-5d7bbecf6c26",
   "metadata": {},
   "source": [
    "Разобьем данные на train и test подвыборки"
   ]
  },
  {
   "cell_type": "code",
   "execution_count": 8,
   "id": "cd8f0c45-b07e-448e-8d53-263586fcdcbe",
   "metadata": {},
   "outputs": [],
   "source": [
    "X_train, X_test, y_train, y_test = train_test_split(X, y, test_size=0.3, random_state=RANDOM_SEED)"
   ]
  },
  {
   "cell_type": "markdown",
   "id": "66d271a2-3508-45ee-bdad-8bace9c6b1dd",
   "metadata": {},
   "source": [
    "Перед обучением надо предварительно конвертировать целевую метку в формат, удобный для модели. Выберем LabelEncoder, потому что у нас только одна категориальная переменная, и тут на самом деле без особой разницы, как именно ее кодировать. Если бы у нас было их несколько, то можно было бы использовать OneHotEncoder, чтобы модель не подумала, что между данными после препроцессинга OneHotEncoder есть какая-то связь"
   ]
  },
  {
   "cell_type": "code",
   "execution_count": 9,
   "id": "30c2a762-1c5c-4c22-8b80-996c4ef38961",
   "metadata": {},
   "outputs": [],
   "source": [
    "enc = LabelEncoder()\n",
    "y_train = enc.fit_transform(y_train)\n",
    "y_test = enc.fit_transform(y_test)"
   ]
  },
  {
   "cell_type": "code",
   "execution_count": 22,
   "id": "d15dddca-1ad3-4dab-9f6d-3bc36e89bbcc",
   "metadata": {},
   "outputs": [],
   "source": [
    "scaler = StandardScaler()\n",
    "\n",
    "X_train_scaled = pd.DataFrame(scaler.fit_transform(X_train), columns=X_train.columns)\n",
    "X_test_scaled = pd.DataFrame(scaler.transform(X_test), columns=X_test.columns)"
   ]
  },
  {
   "cell_type": "markdown",
   "id": "bb162058-967e-4e5a-873f-8e8264031628",
   "metadata": {},
   "source": [
    "## Подбор гиперпараметров"
   ]
  },
  {
   "cell_type": "markdown",
   "id": "f7b82ac0-8e1a-4eff-ae3c-32fd4b4acae3",
   "metadata": {},
   "source": [
    "Будем подбирать следующие параметры:\n",
    "\n",
    "- learning_rate (или eta): Этот параметр определяет размер шага градиентного спуска. Более низкое значение уменьшает вклад каждого дерева в ансамбле, что может сделать модель более устойчивой, но требует больше деревьев для достижения хороших результатов.\n",
    "\n",
    "- n_estimators: Количество деревьев в ансамбле. Большее количество деревьев может улучшить производительность модели, но может также привести к переобучению.\n",
    "\n",
    "- max_depth: Максимальная глубина каждого дерева. Это контролирует сложность каждого дерева. Большая глубина может привести к переобучению, поэтому обычно она подбирается на кросс-валидации.\n",
    "\n",
    "- min_child_weight: Минимальная сумма весов (градиентов), необходимая для создания нового узла в дереве. Это может использоваться для контроля переобучения.\n",
    "\n",
    "- subsample: Доля случайно выбранных образцов, используемых для обучения каждого дерева. Это может помочь в борьбе с переобучением.\n",
    "\n",
    "- colsample_bytree: Доля случайно выбранных признаков для обучения каждого дерева. Также может помочь в управлении переобучением.\n",
    "\n",
    "- gamma: Минимальное уменьшение значения функции потерь, необходимое для создания дополнительного узла дерева. Это также может помочь в управлении переобучением.\n",
    "\n",
    "- scale_pos_weight: Используется для балансировки классов при несбалансированных наборах данных."
   ]
  },
  {
   "cell_type": "code",
   "execution_count": 10,
   "id": "032cfc16-9362-4717-9e26-f97f9b92e65f",
   "metadata": {},
   "outputs": [
    {
     "name": "stdout",
     "output_type": "stream",
     "text": [
      "n_iterations: 6\n",
      "n_required_iterations: 7\n",
      "n_possible_iterations: 6\n",
      "min_resources_: 18\n",
      "max_resources_: 7000\n",
      "aggressive_elimination: False\n",
      "factor: 3\n",
      "----------\n",
      "iter: 0\n",
      "n_candidates: 972\n",
      "n_resources: 18\n",
      "Fitting 3 folds for each of 972 candidates, totalling 2916 fits\n",
      "----------\n",
      "iter: 1\n",
      "n_candidates: 324\n",
      "n_resources: 54\n",
      "Fitting 3 folds for each of 324 candidates, totalling 972 fits\n",
      "----------\n",
      "iter: 2\n",
      "n_candidates: 108\n",
      "n_resources: 162\n",
      "Fitting 3 folds for each of 108 candidates, totalling 324 fits\n",
      "----------\n",
      "iter: 3\n",
      "n_candidates: 36\n",
      "n_resources: 486\n",
      "Fitting 3 folds for each of 36 candidates, totalling 108 fits\n",
      "----------\n",
      "iter: 4\n",
      "n_candidates: 12\n",
      "n_resources: 1458\n",
      "Fitting 3 folds for each of 12 candidates, totalling 36 fits\n",
      "----------\n",
      "iter: 5\n",
      "n_candidates: 4\n",
      "n_resources: 4374\n",
      "Fitting 3 folds for each of 4 candidates, totalling 12 fits\n",
      "Наилучшие параметры: {'colsample_bytree': 1.0, 'gamma': 0.1, 'learning_rate': 0.1, 'max_depth': 5, 'min_child_weight': 1, 'n_estimators': 50, 'subsample': 0.9}\n",
      "Наилучший показатель качества: 0.9877572251235481\n"
     ]
    }
   ],
   "source": [
    "param_grid = {\n",
    "    'learning_rate': [0.01, 0.1],\n",
    "    'n_estimators': [50, 100, 150],\n",
    "    'max_depth': [3, 4, 5],\n",
    "    'min_child_weight': [1, 2, 3],\n",
    "    'subsample': [0.8, 0.9, 1.0],\n",
    "    'colsample_bytree': [0.8, 0.9, 1.0],\n",
    "    'gamma': [0, 0.1]\n",
    "}\n",
    "# Инициализация XGBoost-классификатора\n",
    "xgb = XGBClassifier(objective='multi:softmax',  num_class=len(set(y)), use_label_encoder=False)\n",
    "\n",
    "# Создание объекта GridSearchCV\n",
    "grid_search = HalvingGridSearchCV(estimator=xgb, param_grid=param_grid, scoring='f1_weighted', cv=3, verbose=True, random_state=RANDOM_SEED)\n",
    "\n",
    "# Выполнение подбора параметров\n",
    "grid_search.fit(X_train, y_train)\n",
    "\n",
    "# Извлечение результатов\n",
    "best_params = grid_search.best_params_\n",
    "best_score = grid_search.best_score_\n",
    "\n",
    "print(\"Наилучшие параметры:\", best_params)\n",
    "print(\"Наилучший показатель качества:\", best_score)"
   ]
  },
  {
   "cell_type": "markdown",
   "id": "c523fe09-017b-4346-8626-faaa76f5f941",
   "metadata": {},
   "source": [
    "Для того, чтобы подобрать параметры с помощью optuna, будем использовать ее интеграцию с sklearn"
   ]
  },
  {
   "cell_type": "code",
   "execution_count": 10,
   "id": "0e9853e9-6d8b-4c87-9916-7e1315d6b1fd",
   "metadata": {},
   "outputs": [
    {
     "name": "stderr",
     "output_type": "stream",
     "text": [
      "[I 2023-12-27 12:49:32,304] A new study created in memory with name: no-name-4a490d86-a953-4004-aa19-eba7e7cb1371\n",
      "[I 2023-12-27 12:49:32,306] Searching the best hyperparameters using 7000 samples...\n",
      "[I 2023-12-27 12:49:32,798] Trial 0 finished with value: 0.9876153686683712 and parameters: {'learning_rate': 0.028490564366788033, 'n_estimators': 134, 'max_depth': 3, 'min_child_weight': 1, 'subsample': 0.8970374385951927, 'colsample_bytree': 0.8596523262730262, 'gamma': 0.02124262739922226}. Best is trial 0 with value: 0.9876153686683712.\n",
      "[I 2023-12-27 12:49:33,048] Trial 1 finished with value: 0.9868840193737807 and parameters: {'learning_rate': 0.01468070250209044, 'n_estimators': 67, 'max_depth': 3, 'min_child_weight': 2, 'subsample': 0.999850172068019, 'colsample_bytree': 0.9013369228447712, 'gamma': 0.023705948996927073}. Best is trial 0 with value: 0.9876153686683712.\n",
      "[I 2023-12-27 12:49:33,514] Trial 2 finished with value: 0.9870803953065971 and parameters: {'learning_rate': 0.02450491567301968, 'n_estimators': 97, 'max_depth': 5, 'min_child_weight': 3, 'subsample': 0.8918682323010027, 'colsample_bytree': 0.9904760159695896, 'gamma': 0.04569991890445631}. Best is trial 0 with value: 0.9876153686683712.\n",
      "[I 2023-12-27 12:49:34,254] Trial 3 finished with value: 0.9882259703768487 and parameters: {'learning_rate': 0.08403828579061098, 'n_estimators': 139, 'max_depth': 3, 'min_child_weight': 2, 'subsample': 0.9617217339592792, 'colsample_bytree': 0.9655647908198776, 'gamma': 0.052311056205169085}. Best is trial 3 with value: 0.9882259703768487.\n",
      "[I 2023-12-27 12:49:34,758] Trial 4 finished with value: 0.9869104948501023 and parameters: {'learning_rate': 0.012591774777547369, 'n_estimators': 120, 'max_depth': 4, 'min_child_weight': 2, 'subsample': 0.8428524694030037, 'colsample_bytree': 0.8760399141617478, 'gamma': 0.07568975107185656}. Best is trial 3 with value: 0.9882259703768487.\n",
      "[I 2023-12-27 12:49:36,148] Trial 5 finished with value: 0.9870437090320511 and parameters: {'learning_rate': 0.010692586089654038, 'n_estimators': 124, 'max_depth': 5, 'min_child_weight': 2, 'subsample': 0.8484987188328045, 'colsample_bytree': 0.8509008623868946, 'gamma': 0.06310352531309375}. Best is trial 3 with value: 0.9882259703768487.\n",
      "[I 2023-12-27 12:49:36,763] Trial 6 finished with value: 0.9886540120799872 and parameters: {'learning_rate': 0.08085429270598109, 'n_estimators': 141, 'max_depth': 3, 'min_child_weight': 2, 'subsample': 0.8961941866265084, 'colsample_bytree': 0.8948697976644308, 'gamma': 0.08342985769974867}. Best is trial 6 with value: 0.9886540120799872.\n",
      "[I 2023-12-27 12:49:37,417] Trial 7 finished with value: 0.9882281391809741 and parameters: {'learning_rate': 0.07670868297599712, 'n_estimators': 131, 'max_depth': 4, 'min_child_weight': 2, 'subsample': 0.8710917092229914, 'colsample_bytree': 0.8876808625425889, 'gamma': 0.0007551198521611457}. Best is trial 6 with value: 0.9886540120799872.\n",
      "[I 2023-12-27 12:49:37,783] Trial 8 finished with value: 0.9868738801796876 and parameters: {'learning_rate': 0.012736708756694496, 'n_estimators': 99, 'max_depth': 3, 'min_child_weight': 3, 'subsample': 0.9414104211025541, 'colsample_bytree': 0.8453370029313186, 'gamma': 0.07186651170409629}. Best is trial 6 with value: 0.9886540120799872.\n",
      "[I 2023-12-27 12:49:38,377] Trial 9 finished with value: 0.9879306356502221 and parameters: {'learning_rate': 0.09834235383726522, 'n_estimators': 134, 'max_depth': 4, 'min_child_weight': 3, 'subsample': 0.9770021782919723, 'colsample_bytree': 0.804112198725351, 'gamma': 0.0410013885355252}. Best is trial 6 with value: 0.9886540120799872.\n",
      "[I 2023-12-27 12:49:38,659] Trial 10 finished with value: 0.9876143622305199 and parameters: {'learning_rate': 0.051385121981962406, 'n_estimators': 73, 'max_depth': 3, 'min_child_weight': 1, 'subsample': 0.8008747770352987, 'colsample_bytree': 0.9328490784081145, 'gamma': 0.09421766472285792}. Best is trial 6 with value: 0.9886540120799872.\n",
      "[I 2023-12-27 12:49:39,611] Trial 11 finished with value: 0.9890906211733185 and parameters: {'learning_rate': 0.058615768019463305, 'n_estimators': 147, 'max_depth': 4, 'min_child_weight': 1, 'subsample': 0.859370680249669, 'colsample_bytree': 0.9131808571305717, 'gamma': 0.0005004933073956346}. Best is trial 11 with value: 0.9890906211733185.\n",
      "[I 2023-12-27 12:49:40,341] Trial 12 finished with value: 0.9890876157803875 and parameters: {'learning_rate': 0.04776880362763362, 'n_estimators': 150, 'max_depth': 4, 'min_child_weight': 1, 'subsample': 0.9270869181013673, 'colsample_bytree': 0.9247039961276033, 'gamma': 0.09665769885683631}. Best is trial 11 with value: 0.9890906211733185.\n",
      "[I 2023-12-27 12:49:41,208] Trial 13 finished with value: 0.9888045573338565 and parameters: {'learning_rate': 0.04576008736805973, 'n_estimators': 149, 'max_depth': 4, 'min_child_weight': 1, 'subsample': 0.9324882638195388, 'colsample_bytree': 0.9327844645411462, 'gamma': 0.0010537166436178635}. Best is trial 11 with value: 0.9890906211733185.\n",
      "[I 2023-12-27 12:49:41,984] Trial 14 finished with value: 0.9882332449009285 and parameters: {'learning_rate': 0.05209301965614193, 'n_estimators': 110, 'max_depth': 5, 'min_child_weight': 1, 'subsample': 0.9256630611019923, 'colsample_bytree': 0.9404114969190449, 'gamma': 0.0986495229304965}. Best is trial 11 with value: 0.9890906211733185.\n",
      "[I 2023-12-27 12:49:42,939] Trial 15 finished with value: 0.9890840422721706 and parameters: {'learning_rate': 0.041023566226407356, 'n_estimators': 149, 'max_depth': 4, 'min_child_weight': 1, 'subsample': 0.8132636583759522, 'colsample_bytree': 0.9189344128970434, 'gamma': 0.027298334531254284}. Best is trial 11 with value: 0.9890906211733185.\n",
      "[I 2023-12-27 12:49:43,439] Trial 16 finished with value: 0.9882021317708863 and parameters: {'learning_rate': 0.03548905632360703, 'n_estimators': 85, 'max_depth': 4, 'min_child_weight': 1, 'subsample': 0.8638301388510667, 'colsample_bytree': 0.9737846816234353, 'gamma': 0.05881309081859493}. Best is trial 11 with value: 0.9890906211733185.\n",
      "[I 2023-12-27 12:49:44,013] Trial 17 finished with value: 0.9880930063767289 and parameters: {'learning_rate': 0.06166491307270905, 'n_estimators': 111, 'max_depth': 5, 'min_child_weight': 1, 'subsample': 0.9116300809791872, 'colsample_bytree': 0.9589145468540814, 'gamma': 0.013420281589005205}. Best is trial 11 with value: 0.9890906211733185.\n",
      "[I 2023-12-27 12:49:44,255] Trial 18 finished with value: 0.9871894877879407 and parameters: {'learning_rate': 0.02150160503375061, 'n_estimators': 51, 'max_depth': 4, 'min_child_weight': 1, 'subsample': 0.8371926598404116, 'colsample_bytree': 0.9141819450127214, 'gamma': 0.04021635349359102}. Best is trial 11 with value: 0.9890906211733185.\n",
      "[I 2023-12-27 12:49:45,037] Trial 19 finished with value: 0.9885109651022379 and parameters: {'learning_rate': 0.06311606839952305, 'n_estimators': 118, 'max_depth': 5, 'min_child_weight': 1, 'subsample': 0.8733173742169861, 'colsample_bytree': 0.8119428666189747, 'gamma': 0.033858961459221584}. Best is trial 11 with value: 0.9890906211733185.\n",
      "[I 2023-12-27 12:49:45,714] Trial 20 finished with value: 0.9890822643381786 and parameters: {'learning_rate': 0.03512753929728742, 'n_estimators': 142, 'max_depth': 4, 'min_child_weight': 1, 'subsample': 0.9524797320030458, 'colsample_bytree': 0.9506678288957783, 'gamma': 0.011274147461285983}. Best is trial 11 with value: 0.9890906211733185.\n",
      "[I 2023-12-27 12:49:46,342] Trial 21 finished with value: 0.9890840422721706 and parameters: {'learning_rate': 0.04257996193038174, 'n_estimators': 146, 'max_depth': 4, 'min_child_weight': 1, 'subsample': 0.806995354635918, 'colsample_bytree': 0.9154451935139695, 'gamma': 0.031113984639191187}. Best is trial 11 with value: 0.9890906211733185.\n",
      "[I 2023-12-27 12:49:47,200] Trial 22 finished with value: 0.9892254688282743 and parameters: {'learning_rate': 0.03988517816986187, 'n_estimators': 149, 'max_depth': 4, 'min_child_weight': 1, 'subsample': 0.8236818517430482, 'colsample_bytree': 0.9122158156748151, 'gamma': 0.014840244397729572}. Best is trial 22 with value: 0.9892254688282743.\n",
      "[I 2023-12-27 12:49:47,886] Trial 23 finished with value: 0.988933420631079 and parameters: {'learning_rate': 0.06244328365761643, 'n_estimators': 127, 'max_depth': 4, 'min_child_weight': 1, 'subsample': 0.8290795390776676, 'colsample_bytree': 0.8742568438942265, 'gamma': 0.014704220812842192}. Best is trial 22 with value: 0.9892254688282743.\n",
      "[I 2023-12-27 12:49:48,754] Trial 24 finished with value: 0.9883523525974048 and parameters: {'learning_rate': 0.028387625794898192, 'n_estimators': 150, 'max_depth': 4, 'min_child_weight': 1, 'subsample': 0.8222268943447295, 'colsample_bytree': 0.9068403885019637, 'gamma': 0.0086991776972498}. Best is trial 22 with value: 0.9892254688282743.\n",
      "[I 2023-12-27 12:49:49,310] Trial 25 finished with value: 0.9873475196119993 and parameters: {'learning_rate': 0.018913466255790132, 'n_estimators': 135, 'max_depth': 4, 'min_child_weight': 2, 'subsample': 0.8577845214697144, 'colsample_bytree': 0.9278565545256844, 'gamma': 0.0865660691002158}. Best is trial 22 with value: 0.9892254688282743.\n",
      "[I 2023-12-27 12:49:49,892] Trial 26 finished with value: 0.9878075497864613 and parameters: {'learning_rate': 0.052244979505718145, 'n_estimators': 110, 'max_depth': 5, 'min_child_weight': 1, 'subsample': 0.9152539106573285, 'colsample_bytree': 0.8859866117813722, 'gamma': 0.006331197542643338}. Best is trial 22 with value: 0.9892254688282743.\n",
      "[I 2023-12-27 12:49:50,496] Trial 27 finished with value: 0.9889327963318363 and parameters: {'learning_rate': 0.035800879600161005, 'n_estimators': 141, 'max_depth': 4, 'min_child_weight': 1, 'subsample': 0.8785704030397185, 'colsample_bytree': 0.9515895453255678, 'gamma': 0.020086700585751505}. Best is trial 22 with value: 0.9892254688282743.\n",
      "[I 2023-12-27 12:49:51,035] Trial 28 finished with value: 0.9885134095562881 and parameters: {'learning_rate': 0.0620469465145366, 'n_estimators': 128, 'max_depth': 4, 'min_child_weight': 2, 'subsample': 0.8850141491973158, 'colsample_bytree': 0.9772519389814579, 'gamma': 0.06463247699373056}. Best is trial 22 with value: 0.9892254688282743.\n",
      "[I 2023-12-27 12:49:51,519] Trial 29 finished with value: 0.987468791943817 and parameters: {'learning_rate': 0.0282338087214, 'n_estimators': 134, 'max_depth': 3, 'min_child_weight': 1, 'subsample': 0.9065929479898658, 'colsample_bytree': 0.8658812495524185, 'gamma': 0.016118464661788637}. Best is trial 22 with value: 0.9892254688282743.\n",
      "[I 2023-12-27 12:49:52,015] Trial 30 finished with value: 0.9890760008219321 and parameters: {'learning_rate': 0.04600687030831784, 'n_estimators': 118, 'max_depth': 4, 'min_child_weight': 1, 'subsample': 0.8500736434629829, 'colsample_bytree': 0.8316946149654426, 'gamma': 0.05395914620171347}. Best is trial 22 with value: 0.9892254688282743.\n",
      "[I 2023-12-27 12:49:52,655] Trial 31 finished with value: 0.9889345742658283 and parameters: {'learning_rate': 0.039660935119223556, 'n_estimators': 149, 'max_depth': 4, 'min_child_weight': 1, 'subsample': 0.8189327292738763, 'colsample_bytree': 0.9194428172828121, 'gamma': 0.028662617742016512}. Best is trial 22 with value: 0.9892254688282743.\n",
      "[I 2023-12-27 12:49:53,263] Trial 32 finished with value: 0.9886370064272084 and parameters: {'learning_rate': 0.033349396513962716, 'n_estimators': 144, 'max_depth': 4, 'min_child_weight': 1, 'subsample': 0.8129812339120528, 'colsample_bytree': 0.9017951350657936, 'gamma': 0.025506338447348224}. Best is trial 22 with value: 0.9892254688282743.\n",
      "[I 2023-12-27 12:49:53,917] Trial 33 finished with value: 0.9889345742658283 and parameters: {'learning_rate': 0.04053995569550328, 'n_estimators': 141, 'max_depth': 4, 'min_child_weight': 1, 'subsample': 0.8329782415848886, 'colsample_bytree': 0.9446043785599195, 'gamma': 0.022751590642839555}. Best is trial 22 with value: 0.9892254688282743.\n",
      "[I 2023-12-27 12:49:54,553] Trial 34 finished with value: 0.9886540120799872 and parameters: {'learning_rate': 0.07076409529964743, 'n_estimators': 150, 'max_depth': 4, 'min_child_weight': 1, 'subsample': 0.8259767665884621, 'colsample_bytree': 0.9202526525508329, 'gamma': 0.006812211046613639}. Best is trial 22 with value: 0.9892254688282743.\n",
      "[I 2023-12-27 12:49:55,029] Trial 35 finished with value: 0.9884973154591844 and parameters: {'learning_rate': 0.0551853892478597, 'n_estimators': 136, 'max_depth': 3, 'min_child_weight': 1, 'subsample': 0.9912681356710643, 'colsample_bytree': 0.995594456567252, 'gamma': 0.03654269802697369}. Best is trial 22 with value: 0.9892254688282743.\n",
      "[I 2023-12-27 12:49:55,431] Trial 36 finished with value: 0.9870641478210901 and parameters: {'learning_rate': 0.030808475075569455, 'n_estimators': 92, 'max_depth': 4, 'min_child_weight': 3, 'subsample': 0.812707023664764, 'colsample_bytree': 0.9035812059166424, 'gamma': 0.047211276818973746}. Best is trial 22 with value: 0.9892254688282743.\n",
      "[I 2023-12-27 12:49:56,062] Trial 37 finished with value: 0.9874979166437455 and parameters: {'learning_rate': 0.023410137750669198, 'n_estimators': 123, 'max_depth': 5, 'min_child_weight': 2, 'subsample': 0.8405587584922967, 'colsample_bytree': 0.8891550467758543, 'gamma': 0.020033791714090823}. Best is trial 22 with value: 0.9892254688282743.\n",
      "[I 2023-12-27 12:49:56,541] Trial 38 finished with value: 0.9883453293767211 and parameters: {'learning_rate': 0.045477069939020016, 'n_estimators': 138, 'max_depth': 3, 'min_child_weight': 2, 'subsample': 0.854375720393424, 'colsample_bytree': 0.9247228911976088, 'gamma': 0.0036268741116779434}. Best is trial 22 with value: 0.9892254688282743.\n",
      "[I 2023-12-27 12:49:57,135] Trial 39 finished with value: 0.9882244507385902 and parameters: {'learning_rate': 0.08922504886580325, 'n_estimators': 144, 'max_depth': 4, 'min_child_weight': 2, 'subsample': 0.8968975120587717, 'colsample_bytree': 0.9082597156663058, 'gamma': 0.07294880461677364}. Best is trial 22 with value: 0.9892254688282743.\n",
      "[I 2023-12-27 12:49:57,801] Trial 40 finished with value: 0.9877980927658507 and parameters: {'learning_rate': 0.06876806780668887, 'n_estimators': 131, 'max_depth': 5, 'min_child_weight': 1, 'subsample': 0.862979181276252, 'colsample_bytree': 0.9374186649113204, 'gamma': 0.02741076759743468}. Best is trial 22 with value: 0.9892254688282743.\n",
      "[I 2023-12-27 12:49:58,414] Trial 41 finished with value: 0.9889345742658283 and parameters: {'learning_rate': 0.04064468742447307, 'n_estimators': 146, 'max_depth': 4, 'min_child_weight': 1, 'subsample': 0.8039699147244674, 'colsample_bytree': 0.9136678794855126, 'gamma': 0.033392347356628674}. Best is trial 22 with value: 0.9892254688282743.\n",
      "[I 2023-12-27 12:49:59,029] Trial 42 finished with value: 0.9892254688282743 and parameters: {'learning_rate': 0.04383711593251044, 'n_estimators': 145, 'max_depth': 4, 'min_child_weight': 1, 'subsample': 0.8075914695641462, 'colsample_bytree': 0.8952480268060841, 'gamma': 0.017444274817400632}. Best is trial 22 with value: 0.9892254688282743.\n",
      "[I 2023-12-27 12:49:59,746] Trial 43 finished with value: 0.989506559280556 and parameters: {'learning_rate': 0.05601704812855289, 'n_estimators': 140, 'max_depth': 4, 'min_child_weight': 1, 'subsample': 0.8208598358912882, 'colsample_bytree': 0.9264357062181807, 'gamma': 0.017898913646670584}. Best is trial 43 with value: 0.989506559280556.\n",
      "[I 2023-12-27 12:50:00,356] Trial 44 finished with value: 0.9890840422721706 and parameters: {'learning_rate': 0.04880888376590133, 'n_estimators': 140, 'max_depth': 4, 'min_child_weight': 1, 'subsample': 0.8436365721966625, 'colsample_bytree': 0.8969269286230743, 'gamma': 0.018552009226592222}. Best is trial 43 with value: 0.989506559280556.\n",
      "[I 2023-12-27 12:50:00,975] Trial 45 finished with value: 0.9888033268076043 and parameters: {'learning_rate': 0.0770231811165047, 'n_estimators': 130, 'max_depth': 4, 'min_child_weight': 1, 'subsample': 0.800722232999218, 'colsample_bytree': 0.8826771493674874, 'gamma': 0.010885725012985403}. Best is trial 43 with value: 0.989506559280556.\n",
      "[I 2023-12-27 12:50:01,555] Trial 46 finished with value: 0.9889445923524818 and parameters: {'learning_rate': 0.05560264860347168, 'n_estimators': 138, 'max_depth': 4, 'min_child_weight': 3, 'subsample': 0.925074819998644, 'colsample_bytree': 0.8736051589570192, 'gamma': 0.00039428904585465767}. Best is trial 43 with value: 0.989506559280556.\n",
      "[I 2023-12-27 12:50:02,326] Trial 47 finished with value: 0.9883738266546248 and parameters: {'learning_rate': 0.058244722740611446, 'n_estimators': 145, 'max_depth': 4, 'min_child_weight': 1, 'subsample': 0.9408075504016215, 'colsample_bytree': 0.8951911668488197, 'gamma': 0.006614753115765273}. Best is trial 43 with value: 0.989506559280556.\n",
      "[I 2023-12-27 12:50:02,683] Trial 48 finished with value: 0.9884937791535086 and parameters: {'learning_rate': 0.04832023769478244, 'n_estimators': 73, 'max_depth': 4, 'min_child_weight': 1, 'subsample': 0.8186268888508964, 'colsample_bytree': 0.927442250812793, 'gamma': 0.08590926465459572}. Best is trial 43 with value: 0.989506559280556.\n",
      "[I 2023-12-27 12:50:03,124] Trial 49 finished with value: 0.988362834387134 and parameters: {'learning_rate': 0.07031433440181874, 'n_estimators': 123, 'max_depth': 3, 'min_child_weight': 2, 'subsample': 0.9632789933387872, 'colsample_bytree': 0.8589608972538708, 'gamma': 0.07740666184986224}. Best is trial 43 with value: 0.989506559280556.\n",
      "[I 2023-12-27 12:50:04,165] Trial 50 finished with value: 0.9889408377820746 and parameters: {'learning_rate': 0.0437651420370455, 'n_estimators': 134, 'max_depth': 4, 'min_child_weight': 1, 'subsample': 0.8353053980403249, 'colsample_bytree': 0.9666758067365162, 'gamma': 0.022686901431670674}. Best is trial 43 with value: 0.989506559280556.\n",
      "[I 2023-12-27 12:50:04,809] Trial 51 finished with value: 0.9892254688282743 and parameters: {'learning_rate': 0.03833922647657776, 'n_estimators': 150, 'max_depth': 4, 'min_child_weight': 1, 'subsample': 0.8124672583961514, 'colsample_bytree': 0.9357809075101551, 'gamma': 0.013431222590025153}. Best is trial 43 with value: 0.989506559280556.\n",
      "[I 2023-12-27 12:50:05,420] Trial 52 finished with value: 0.9889345742658283 and parameters: {'learning_rate': 0.03679724485594198, 'n_estimators': 146, 'max_depth': 4, 'min_child_weight': 1, 'subsample': 0.8104153713451601, 'colsample_bytree': 0.933952551611512, 'gamma': 0.01640921802509367}. Best is trial 43 with value: 0.989506559280556.\n",
      "[I 2023-12-27 12:50:06,173] Trial 53 finished with value: 0.9886370064272084 and parameters: {'learning_rate': 0.030176540004582756, 'n_estimators': 150, 'max_depth': 4, 'min_child_weight': 1, 'subsample': 0.8254412981163782, 'colsample_bytree': 0.9454065039125248, 'gamma': 0.010386791556568626}. Best is trial 43 with value: 0.989506559280556.\n",
      "[I 2023-12-27 12:50:06,784] Trial 54 finished with value: 0.9892272565627391 and parameters: {'learning_rate': 0.05070676636222199, 'n_estimators': 144, 'max_depth': 4, 'min_child_weight': 1, 'subsample': 0.8195929611971607, 'colsample_bytree': 0.9115460680024488, 'gamma': 0.004887884212353991}. Best is trial 43 with value: 0.989506559280556.\n",
      "[I 2023-12-27 12:50:07,390] Trial 55 finished with value: 0.9896555705189245 and parameters: {'learning_rate': 0.05379150468656439, 'n_estimators': 140, 'max_depth': 4, 'min_child_weight': 1, 'subsample': 0.8183210284649703, 'colsample_bytree': 0.9073341707546567, 'gamma': 0.0031537189225667225}. Best is trial 55 with value: 0.9896555705189245.\n",
      "[I 2023-12-27 12:50:07,996] Trial 56 finished with value: 0.9893685193374636 and parameters: {'learning_rate': 0.051329971357904534, 'n_estimators': 138, 'max_depth': 4, 'min_child_weight': 1, 'subsample': 0.8194361694596622, 'colsample_bytree': 0.8959051249910875, 'gamma': 0.0035174654419119194}. Best is trial 55 with value: 0.9896555705189245.\n",
      "[I 2023-12-27 12:50:08,587] Trial 57 finished with value: 0.988935460491149 and parameters: {'learning_rate': 0.050073732133845764, 'n_estimators': 138, 'max_depth': 4, 'min_child_weight': 1, 'subsample': 0.8469972593920235, 'colsample_bytree': 0.893062414205711, 'gamma': 0.0031502937788282343}. Best is trial 55 with value: 0.9896555705189245.\n",
      "[I 2023-12-27 12:50:09,081] Trial 58 finished with value: 0.9887913697757323 and parameters: {'learning_rate': 0.055376739890130755, 'n_estimators': 114, 'max_depth': 4, 'min_child_weight': 1, 'subsample': 0.8282326808715857, 'colsample_bytree': 0.8805493805147391, 'gamma': 0.004228737719946559}. Best is trial 55 with value: 0.9896555705189245.\n",
      "[I 2023-12-27 12:50:09,643] Trial 59 finished with value: 0.9892233971699119 and parameters: {'learning_rate': 0.05299343514455887, 'n_estimators': 132, 'max_depth': 4, 'min_child_weight': 1, 'subsample': 0.8201086168720988, 'colsample_bytree': 0.9107112933433713, 'gamma': 0.00935611275352911}. Best is trial 55 with value: 0.9896555705189245.\n",
      "[I 2023-12-27 12:50:10,126] Trial 60 finished with value: 0.9888033268076043 and parameters: {'learning_rate': 0.08440292269833954, 'n_estimators': 104, 'max_depth': 4, 'min_child_weight': 1, 'subsample': 0.8351349258952298, 'colsample_bytree': 0.9008953196465571, 'gamma': 0.017151856961419354}. Best is trial 55 with value: 0.9896555705189245.\n",
      "[I 2023-12-27 12:50:10,727] Trial 61 finished with value: 0.9889345742658283 and parameters: {'learning_rate': 0.03673859617886226, 'n_estimators': 141, 'max_depth': 4, 'min_child_weight': 1, 'subsample': 0.8082576043865946, 'colsample_bytree': 0.9069391778596069, 'gamma': 0.01299365556234722}. Best is trial 55 with value: 0.9896555705189245.\n",
      "[I 2023-12-27 12:50:11,340] Trial 62 finished with value: 0.9892320477294222 and parameters: {'learning_rate': 0.06491354353959403, 'n_estimators': 143, 'max_depth': 4, 'min_child_weight': 1, 'subsample': 0.8002245088083941, 'colsample_bytree': 0.890432434046009, 'gamma': 0.013524839917282806}. Best is trial 55 with value: 0.9896555705189245.\n",
      "[I 2023-12-27 12:50:11,921] Trial 63 finished with value: 0.9889319809063344 and parameters: {'learning_rate': 0.06546700744000525, 'n_estimators': 128, 'max_depth': 4, 'min_child_weight': 1, 'subsample': 0.8184248583863262, 'colsample_bytree': 0.8898393035820723, 'gamma': 0.006511137027082857}. Best is trial 55 with value: 0.9896555705189245.\n",
      "[I 2023-12-27 12:50:12,554] Trial 64 finished with value: 0.9890775286224867 and parameters: {'learning_rate': 0.058533351121128174, 'n_estimators': 143, 'max_depth': 4, 'min_child_weight': 1, 'subsample': 0.8000637391182889, 'colsample_bytree': 0.8669167799374323, 'gamma': 0.003343257477485823}. Best is trial 55 with value: 0.9896555705189245.\n",
      "[I 2023-12-27 12:50:13,233] Trial 65 finished with value: 0.9890840422721706 and parameters: {'learning_rate': 0.04459532448935847, 'n_estimators': 137, 'max_depth': 4, 'min_child_weight': 1, 'subsample': 0.8066285406928372, 'colsample_bytree': 0.8806052431955461, 'gamma': 3.194199434787635e-05}. Best is trial 55 with value: 0.9896555705189245.\n",
      "[I 2023-12-27 12:50:13,529] Trial 66 finished with value: 0.9880510742959098 and parameters: {'learning_rate': 0.051223416810516655, 'n_estimators': 52, 'max_depth': 4, 'min_child_weight': 1, 'subsample': 0.8297215823437359, 'colsample_bytree': 0.9004469460313809, 'gamma': 0.008662882856229554}. Best is trial 55 with value: 0.9896555705189245.\n",
      "[I 2023-12-27 12:50:14,158] Trial 67 finished with value: 0.9889418999007246 and parameters: {'learning_rate': 0.06661470713900083, 'n_estimators': 143, 'max_depth': 4, 'min_child_weight': 1, 'subsample': 0.8148456717224906, 'colsample_bytree': 0.9207658889402004, 'gamma': 0.013843471656775798}. Best is trial 55 with value: 0.9896555705189245.\n",
      "[I 2023-12-27 12:50:14,837] Trial 68 finished with value: 0.9885126120723076 and parameters: {'learning_rate': 0.07465158300863024, 'n_estimators': 126, 'max_depth': 4, 'min_child_weight': 1, 'subsample': 0.8226070014655686, 'colsample_bytree': 0.8954186401009226, 'gamma': 0.02104987368237716}. Best is trial 55 with value: 0.9896555705189245.\n",
      "[I 2023-12-27 12:50:15,549] Trial 69 finished with value: 0.9892238905256062 and parameters: {'learning_rate': 0.06006743739252413, 'n_estimators': 147, 'max_depth': 4, 'min_child_weight': 1, 'subsample': 0.8389797109915947, 'colsample_bytree': 0.850060595038757, 'gamma': 0.024005293951086547}. Best is trial 55 with value: 0.9896555705189245.\n",
      "[I 2023-12-27 12:50:16,375] Trial 70 finished with value: 0.9867672917617436 and parameters: {'learning_rate': 0.015056995337781504, 'n_estimators': 134, 'max_depth': 4, 'min_child_weight': 1, 'subsample': 0.805371064893593, 'colsample_bytree': 0.9132617229389773, 'gamma': 0.0175816527622243}. Best is trial 55 with value: 0.9896555705189245.\n",
      "[I 2023-12-27 12:50:17,269] Trial 71 finished with value: 0.9890760008219321 and parameters: {'learning_rate': 0.03786121360713885, 'n_estimators': 146, 'max_depth': 4, 'min_child_weight': 1, 'subsample': 0.8093772559689616, 'colsample_bytree': 0.9324355022672419, 'gamma': 0.013095791000098002}. Best is trial 55 with value: 0.9896555705189245.\n",
      "[I 2023-12-27 12:50:17,917] Trial 72 finished with value: 0.9887868494624965 and parameters: {'learning_rate': 0.032259330529743745, 'n_estimators': 140, 'max_depth': 4, 'min_child_weight': 1, 'subsample': 0.8151351266187074, 'colsample_bytree': 0.9045486468782856, 'gamma': 0.011591017817496984}. Best is trial 55 with value: 0.9896555705189245.\n",
      "[I 2023-12-27 12:50:18,646] Trial 73 finished with value: 0.9890840422721706 and parameters: {'learning_rate': 0.042557662962060004, 'n_estimators': 143, 'max_depth': 4, 'min_child_weight': 1, 'subsample': 0.829848440129509, 'colsample_bytree': 0.9196859551074807, 'gamma': 0.005510889247950179}. Best is trial 55 with value: 0.9896555705189245.\n",
      "[I 2023-12-27 12:50:19,297] Trial 74 finished with value: 0.9892254688282743 and parameters: {'learning_rate': 0.03976473481429087, 'n_estimators': 147, 'max_depth': 4, 'min_child_weight': 1, 'subsample': 0.8234461263105071, 'colsample_bytree': 0.9283039932264203, 'gamma': 0.014517350638104186}. Best is trial 55 with value: 0.9896555705189245.\n",
      "[I 2023-12-27 12:50:20,113] Trial 75 finished with value: 0.9890840422721706 and parameters: {'learning_rate': 0.047562757092556994, 'n_estimators': 137, 'max_depth': 4, 'min_child_weight': 1, 'subsample': 0.814565978321133, 'colsample_bytree': 0.8862564001702256, 'gamma': 0.02987252807324444}. Best is trial 55 with value: 0.9896555705189245.\n",
      "[I 2023-12-27 12:50:21,061] Trial 76 finished with value: 0.9892233971699119 and parameters: {'learning_rate': 0.053360027440940136, 'n_estimators': 148, 'max_depth': 4, 'min_child_weight': 1, 'subsample': 0.8019818076572538, 'colsample_bytree': 0.9534191955146029, 'gamma': 0.008055017392104392}. Best is trial 55 with value: 0.9896555705189245.\n",
      "[I 2023-12-27 12:50:21,815] Trial 77 finished with value: 0.9889300532644961 and parameters: {'learning_rate': 0.033934502383888884, 'n_estimators': 140, 'max_depth': 4, 'min_child_weight': 1, 'subsample': 0.8100654896313987, 'colsample_bytree': 0.9416973252947841, 'gamma': 0.019579312079546912}. Best is trial 55 with value: 0.9896555705189245.\n",
      "[I 2023-12-27 12:50:22,659] Trial 78 finished with value: 0.9890840422721706 and parameters: {'learning_rate': 0.04579074187576569, 'n_estimators': 132, 'max_depth': 4, 'min_child_weight': 1, 'subsample': 0.8323407796879554, 'colsample_bytree': 0.909282674319244, 'gamma': 0.0016506813916537387}. Best is trial 55 with value: 0.9896555705189245.\n",
      "[I 2023-12-27 12:50:23,174] Trial 79 finished with value: 0.9879234153218762 and parameters: {'learning_rate': 0.025594234948888794, 'n_estimators': 92, 'max_depth': 4, 'min_child_weight': 1, 'subsample': 0.8461867236479339, 'colsample_bytree': 0.8758219871351863, 'gamma': 0.025290297263481053}. Best is trial 55 with value: 0.9896555705189245.\n",
      "[I 2023-12-27 12:50:23,811] Trial 80 finished with value: 0.988940211423417 and parameters: {'learning_rate': 0.05710938560271553, 'n_estimators': 150, 'max_depth': 4, 'min_child_weight': 2, 'subsample': 0.8187222517173848, 'colsample_bytree': 0.9156154920912859, 'gamma': 0.010587257349369654}. Best is trial 55 with value: 0.9896555705189245.\n",
      "[I 2023-12-27 12:50:24,432] Trial 81 finished with value: 0.9890840422721706 and parameters: {'learning_rate': 0.0384295515586687, 'n_estimators': 144, 'max_depth': 4, 'min_child_weight': 1, 'subsample': 0.8217398145028725, 'colsample_bytree': 0.9281297235918229, 'gamma': 0.015194267499563777}. Best is trial 55 with value: 0.9896555705189245.\n",
      "[I 2023-12-27 12:50:25,057] Trial 82 finished with value: 0.9890801822441778 and parameters: {'learning_rate': 0.04289467384555271, 'n_estimators': 147, 'max_depth': 4, 'min_child_weight': 1, 'subsample': 0.852479603948685, 'colsample_bytree': 0.936536052191077, 'gamma': 0.015025583308138845}. Best is trial 55 with value: 0.9896555705189245.\n",
      "[I 2023-12-27 12:50:25,651] Trial 83 finished with value: 0.9890840422721706 and parameters: {'learning_rate': 0.0403965751457193, 'n_estimators': 141, 'max_depth': 4, 'min_child_weight': 1, 'subsample': 0.8229796119819308, 'colsample_bytree': 0.9237648278891393, 'gamma': 0.005091352629067177}. Best is trial 55 with value: 0.9896555705189245.\n",
      "[I 2023-12-27 12:50:26,281] Trial 84 finished with value: 0.9893728651762541 and parameters: {'learning_rate': 0.05016476700821026, 'n_estimators': 148, 'max_depth': 4, 'min_child_weight': 1, 'subsample': 0.8052293566743235, 'colsample_bytree': 0.9285587222036801, 'gamma': 0.012118686212774898}. Best is trial 55 with value: 0.9896555705189245.\n",
      "[I 2023-12-27 12:50:26,880] Trial 85 finished with value: 0.9892286888111887 and parameters: {'learning_rate': 0.06275174873435721, 'n_estimators': 135, 'max_depth': 4, 'min_child_weight': 1, 'subsample': 0.8066838175881245, 'colsample_bytree': 0.8925375889454923, 'gamma': 0.008359813137130072}. Best is trial 55 with value: 0.9896555705189245.\n",
      "[I 2023-12-27 12:50:27,626] Trial 86 finished with value: 0.9889417151997112 and parameters: {'learning_rate': 0.06128312629227487, 'n_estimators': 136, 'max_depth': 4, 'min_child_weight': 1, 'subsample': 0.8049408390507399, 'colsample_bytree': 0.8930620467200662, 'gamma': 0.009469981904775517}. Best is trial 55 with value: 0.9896555705189245.\n",
      "[I 2023-12-27 12:50:28,206] Trial 87 finished with value: 0.9888046207820915 and parameters: {'learning_rate': 0.06483207016189617, 'n_estimators': 139, 'max_depth': 4, 'min_child_weight': 1, 'subsample': 0.8082551712427613, 'colsample_bytree': 0.8987815419713836, 'gamma': 0.007546351566600377}. Best is trial 55 with value: 0.9896555705189245.\n",
      "[I 2023-12-27 12:50:28,784] Trial 88 finished with value: 0.9890840422721706 and parameters: {'learning_rate': 0.04948081072960988, 'n_estimators': 133, 'max_depth': 4, 'min_child_weight': 1, 'subsample': 0.8162967396838218, 'colsample_bytree': 0.8694024842730567, 'gamma': 0.0028555187224470445}. Best is trial 55 with value: 0.9896555705189245.\n",
      "[I 2023-12-27 12:50:29,323] Trial 89 finished with value: 0.9886580989695058 and parameters: {'learning_rate': 0.0742672668727071, 'n_estimators': 130, 'max_depth': 4, 'min_child_weight': 1, 'subsample': 0.8008351165607842, 'colsample_bytree': 0.8838532455300179, 'gamma': 0.02143737347530282}. Best is trial 55 with value: 0.9896555705189245.\n",
      "[I 2023-12-27 12:50:29,905] Trial 90 finished with value: 0.9889401232044729 and parameters: {'learning_rate': 0.05373790223664196, 'n_estimators': 143, 'max_depth': 4, 'min_child_weight': 3, 'subsample': 0.8271303247162757, 'colsample_bytree': 0.9036561119703015, 'gamma': 0.039148846588975515}. Best is trial 55 with value: 0.9896555705189245.\n",
      "[I 2023-12-27 12:50:30,544] Trial 91 finished with value: 0.9892272565627391 and parameters: {'learning_rate': 0.0470774663560822, 'n_estimators': 150, 'max_depth': 4, 'min_child_weight': 1, 'subsample': 0.8121914234064369, 'colsample_bytree': 0.8902473844623057, 'gamma': 0.012153071730468291}. Best is trial 55 with value: 0.9896555705189245.\n",
      "[I 2023-12-27 12:50:31,166] Trial 92 finished with value: 0.9890840422721706 and parameters: {'learning_rate': 0.04691515245018647, 'n_estimators': 144, 'max_depth': 4, 'min_child_weight': 1, 'subsample': 0.8114254119714311, 'colsample_bytree': 0.892829732122443, 'gamma': 0.010993691223257218}. Best is trial 55 with value: 0.9896555705189245.\n",
      "[I 2023-12-27 12:50:31,788] Trial 93 finished with value: 0.9893724198292076 and parameters: {'learning_rate': 0.050690044645001174, 'n_estimators': 148, 'max_depth': 4, 'min_child_weight': 1, 'subsample': 0.8906868649259766, 'colsample_bytree': 0.9155119486050709, 'gamma': 0.018306186237656872}. Best is trial 55 with value: 0.9896555705189245.\n",
      "[I 2023-12-27 12:50:32,429] Trial 94 finished with value: 0.9892233156190359 and parameters: {'learning_rate': 0.050888458018590495, 'n_estimators': 148, 'max_depth': 4, 'min_child_weight': 1, 'subsample': 0.882666642502078, 'colsample_bytree': 0.9156685602382917, 'gamma': 0.005410150615049817}. Best is trial 55 with value: 0.9896555705189245.\n",
      "[I 2023-12-27 12:50:33,050] Trial 95 finished with value: 0.9895131809483976 and parameters: {'learning_rate': 0.05677415258308813, 'n_estimators': 139, 'max_depth': 4, 'min_child_weight': 1, 'subsample': 0.8401166534949822, 'colsample_bytree': 0.9079521415229943, 'gamma': 0.008589001652797267}. Best is trial 55 with value: 0.9896555705189245.\n",
      "[I 2023-12-27 12:50:33,637] Trial 96 finished with value: 0.9893707793913277 and parameters: {'learning_rate': 0.05642725934246671, 'n_estimators': 136, 'max_depth': 4, 'min_child_weight': 1, 'subsample': 0.8375318217965607, 'colsample_bytree': 0.9072706922964193, 'gamma': 0.0020032201070028406}. Best is trial 55 with value: 0.9896555705189245.\n",
      "[I 2023-12-27 12:50:34,212] Trial 97 finished with value: 0.9892313823604235 and parameters: {'learning_rate': 0.06299634383739726, 'n_estimators': 136, 'max_depth': 4, 'min_child_weight': 1, 'subsample': 0.872025257503691, 'colsample_bytree': 0.908113478637879, 'gamma': 0.0022203745309861255}. Best is trial 55 with value: 0.9896555705189245.\n",
      "[I 2023-12-27 12:50:34,752] Trial 98 finished with value: 0.9887994989771854 and parameters: {'learning_rate': 0.0806558777854622, 'n_estimators': 121, 'max_depth': 4, 'min_child_weight': 1, 'subsample': 0.8894098891524868, 'colsample_bytree': 0.9065278362096834, 'gamma': 0.0015527988682608558}. Best is trial 55 with value: 0.9896555705189245.\n",
      "[I 2023-12-27 12:50:35,323] Trial 99 finished with value: 0.9892320477294222 and parameters: {'learning_rate': 0.06324416816822567, 'n_estimators': 135, 'max_depth': 4, 'min_child_weight': 1, 'subsample': 0.8707218716194118, 'colsample_bytree': 0.9229817044278797, 'gamma': 0.002203093097928847}. Best is trial 55 with value: 0.9896555705189245.\n",
      "[I 2023-12-27 12:50:35,325] Finished hyperparameter search!\n",
      "[I 2023-12-27 12:50:35,328] Refitting the estimator using 7000 samples...\n",
      "[I 2023-12-27 12:50:35,902] Finished refitting! (elapsed time: 0.573 sec.)\n"
     ]
    },
    {
     "name": "stdout",
     "output_type": "stream",
     "text": [
      "Наилучшие параметры: {'learning_rate': 0.05379150468656439, 'n_estimators': 140, 'max_depth': 4, 'min_child_weight': 1, 'subsample': 0.8183210284649703, 'colsample_bytree': 0.9073341707546567, 'gamma': 0.0031537189225667225}\n",
      "Наилучший показатель качества (F1-мера): 0.9896555705189245\n"
     ]
    }
   ],
   "source": [
    "param = {\n",
    "    'learning_rate': optuna.distributions.FloatDistribution(0.01, 0.1, log=True),\n",
    "    'n_estimators': optuna.distributions.IntDistribution(50, 150),\n",
    "    'max_depth': optuna.distributions.IntDistribution(3, 5),\n",
    "    'min_child_weight': optuna.distributions.IntDistribution( 1, 3),\n",
    "    'subsample': optuna.distributions.FloatDistribution(0.8, 1.0),\n",
    "    'colsample_bytree': optuna.distributions.FloatDistribution(0.8, 1.0),\n",
    "    'gamma': optuna.distributions.FloatDistribution(0, 0.1)\n",
    "}\n",
    "\n",
    "# Создание объекта OptunaSearchCV\n",
    "optuna_search = OptunaSearchCV(\n",
    "    XGBClassifier(objective='multi:softmax', num_class=len(set(y)), use_label_encoder=False),\n",
    "    param,\n",
    "    scoring='f1_weighted',\n",
    "    n_trials=100,\n",
    "    cv=3,\n",
    "    verbose=1,\n",
    "    random_state=RANDOM_SEED\n",
    ")\n",
    "\n",
    "# Запуск поиска\n",
    "optuna_search.fit(X_train, y_train)\n",
    "\n",
    "print(\"Наилучшие параметры:\", optuna_search.best_params_)\n",
    "print(\"Наилучший показатель качества (F1-мера):\", optuna_search.best_score_)"
   ]
  },
  {
   "cell_type": "markdown",
   "id": "5a8dff7a-0a3f-4fdd-8712-d9b88ab736ed",
   "metadata": {},
   "source": [
    "## Обучим модель"
   ]
  },
  {
   "cell_type": "markdown",
   "id": "42840d92-13c2-4e1b-881b-309dc92c43ca",
   "metadata": {},
   "source": [
    "Обучим наулучшую модель"
   ]
  },
  {
   "cell_type": "code",
   "execution_count": 16,
   "id": "44bbf819-cb1b-4a8c-acac-c5e2bba50d3c",
   "metadata": {},
   "outputs": [
    {
     "data": {
      "text/html": [
       "<style>#sk-container-id-2 {color: black;}#sk-container-id-2 pre{padding: 0;}#sk-container-id-2 div.sk-toggleable {background-color: white;}#sk-container-id-2 label.sk-toggleable__label {cursor: pointer;display: block;width: 100%;margin-bottom: 0;padding: 0.3em;box-sizing: border-box;text-align: center;}#sk-container-id-2 label.sk-toggleable__label-arrow:before {content: \"▸\";float: left;margin-right: 0.25em;color: #696969;}#sk-container-id-2 label.sk-toggleable__label-arrow:hover:before {color: black;}#sk-container-id-2 div.sk-estimator:hover label.sk-toggleable__label-arrow:before {color: black;}#sk-container-id-2 div.sk-toggleable__content {max-height: 0;max-width: 0;overflow: hidden;text-align: left;background-color: #f0f8ff;}#sk-container-id-2 div.sk-toggleable__content pre {margin: 0.2em;color: black;border-radius: 0.25em;background-color: #f0f8ff;}#sk-container-id-2 input.sk-toggleable__control:checked~div.sk-toggleable__content {max-height: 200px;max-width: 100%;overflow: auto;}#sk-container-id-2 input.sk-toggleable__control:checked~label.sk-toggleable__label-arrow:before {content: \"▾\";}#sk-container-id-2 div.sk-estimator input.sk-toggleable__control:checked~label.sk-toggleable__label {background-color: #d4ebff;}#sk-container-id-2 div.sk-label input.sk-toggleable__control:checked~label.sk-toggleable__label {background-color: #d4ebff;}#sk-container-id-2 input.sk-hidden--visually {border: 0;clip: rect(1px 1px 1px 1px);clip: rect(1px, 1px, 1px, 1px);height: 1px;margin: -1px;overflow: hidden;padding: 0;position: absolute;width: 1px;}#sk-container-id-2 div.sk-estimator {font-family: monospace;background-color: #f0f8ff;border: 1px dotted black;border-radius: 0.25em;box-sizing: border-box;margin-bottom: 0.5em;}#sk-container-id-2 div.sk-estimator:hover {background-color: #d4ebff;}#sk-container-id-2 div.sk-parallel-item::after {content: \"\";width: 100%;border-bottom: 1px solid gray;flex-grow: 1;}#sk-container-id-2 div.sk-label:hover label.sk-toggleable__label {background-color: #d4ebff;}#sk-container-id-2 div.sk-serial::before {content: \"\";position: absolute;border-left: 1px solid gray;box-sizing: border-box;top: 0;bottom: 0;left: 50%;z-index: 0;}#sk-container-id-2 div.sk-serial {display: flex;flex-direction: column;align-items: center;background-color: white;padding-right: 0.2em;padding-left: 0.2em;position: relative;}#sk-container-id-2 div.sk-item {position: relative;z-index: 1;}#sk-container-id-2 div.sk-parallel {display: flex;align-items: stretch;justify-content: center;background-color: white;position: relative;}#sk-container-id-2 div.sk-item::before, #sk-container-id-2 div.sk-parallel-item::before {content: \"\";position: absolute;border-left: 1px solid gray;box-sizing: border-box;top: 0;bottom: 0;left: 50%;z-index: -1;}#sk-container-id-2 div.sk-parallel-item {display: flex;flex-direction: column;z-index: 1;position: relative;background-color: white;}#sk-container-id-2 div.sk-parallel-item:first-child::after {align-self: flex-end;width: 50%;}#sk-container-id-2 div.sk-parallel-item:last-child::after {align-self: flex-start;width: 50%;}#sk-container-id-2 div.sk-parallel-item:only-child::after {width: 0;}#sk-container-id-2 div.sk-dashed-wrapped {border: 1px dashed gray;margin: 0 0.4em 0.5em 0.4em;box-sizing: border-box;padding-bottom: 0.4em;background-color: white;}#sk-container-id-2 div.sk-label label {font-family: monospace;font-weight: bold;display: inline-block;line-height: 1.2em;}#sk-container-id-2 div.sk-label-container {text-align: center;}#sk-container-id-2 div.sk-container {/* jupyter's `normalize.less` sets `[hidden] { display: none; }` but bootstrap.min.css set `[hidden] { display: none !important; }` so we also need the `!important` here to be able to override the default hidden behavior on the sphinx rendered scikit-learn.org. See: https://github.com/scikit-learn/scikit-learn/issues/21755 */display: inline-block !important;position: relative;}#sk-container-id-2 div.sk-text-repr-fallback {display: none;}</style><div id=\"sk-container-id-2\" class=\"sk-top-container\"><div class=\"sk-text-repr-fallback\"><pre>XGBClassifier(base_score=None, booster=None, callbacks=None,\n",
       "              colsample_bylevel=None, colsample_bynode=None,\n",
       "              colsample_bytree=0.9073341707546567, device=None,\n",
       "              early_stopping_rounds=None, enable_categorical=False,\n",
       "              eval_metric=None, feature_types=None, gamma=0.0031537189225667225,\n",
       "              grow_policy=None, importance_type=None,\n",
       "              interaction_constraints=None, learning_rate=0.05379150468656439,\n",
       "              max_bin=None, max_cat_threshold=None, max_cat_to_onehot=None,\n",
       "              max_delta_step=None, max_depth=4, max_leaves=None,\n",
       "              min_child_weight=1, missing=nan, monotone_constraints=None,\n",
       "              multi_strategy=None, n_estimators=140, n_jobs=None, num_class=3,\n",
       "              num_parallel_tree=None, ...)</pre><b>In a Jupyter environment, please rerun this cell to show the HTML representation or trust the notebook. <br />On GitHub, the HTML representation is unable to render, please try loading this page with nbviewer.org.</b></div><div class=\"sk-container\" hidden><div class=\"sk-item\"><div class=\"sk-estimator sk-toggleable\"><input class=\"sk-toggleable__control sk-hidden--visually\" id=\"sk-estimator-id-2\" type=\"checkbox\" checked><label for=\"sk-estimator-id-2\" class=\"sk-toggleable__label sk-toggleable__label-arrow\">XGBClassifier</label><div class=\"sk-toggleable__content\"><pre>XGBClassifier(base_score=None, booster=None, callbacks=None,\n",
       "              colsample_bylevel=None, colsample_bynode=None,\n",
       "              colsample_bytree=0.9073341707546567, device=None,\n",
       "              early_stopping_rounds=None, enable_categorical=False,\n",
       "              eval_metric=None, feature_types=None, gamma=0.0031537189225667225,\n",
       "              grow_policy=None, importance_type=None,\n",
       "              interaction_constraints=None, learning_rate=0.05379150468656439,\n",
       "              max_bin=None, max_cat_threshold=None, max_cat_to_onehot=None,\n",
       "              max_delta_step=None, max_depth=4, max_leaves=None,\n",
       "              min_child_weight=1, missing=nan, monotone_constraints=None,\n",
       "              multi_strategy=None, n_estimators=140, n_jobs=None, num_class=3,\n",
       "              num_parallel_tree=None, ...)</pre></div></div></div></div></div>"
      ],
      "text/plain": [
       "XGBClassifier(base_score=None, booster=None, callbacks=None,\n",
       "              colsample_bylevel=None, colsample_bynode=None,\n",
       "              colsample_bytree=0.9073341707546567, device=None,\n",
       "              early_stopping_rounds=None, enable_categorical=False,\n",
       "              eval_metric=None, feature_types=None, gamma=0.0031537189225667225,\n",
       "              grow_policy=None, importance_type=None,\n",
       "              interaction_constraints=None, learning_rate=0.05379150468656439,\n",
       "              max_bin=None, max_cat_threshold=None, max_cat_to_onehot=None,\n",
       "              max_delta_step=None, max_depth=4, max_leaves=None,\n",
       "              min_child_weight=1, missing=nan, monotone_constraints=None,\n",
       "              multi_strategy=None, n_estimators=140, n_jobs=None, num_class=3,\n",
       "              num_parallel_tree=None, ...)"
      ]
     },
     "execution_count": 16,
     "metadata": {},
     "output_type": "execute_result"
    }
   ],
   "source": [
    "xgb = XGBClassifier(objective='multi:softmax',  num_class=len(set(y)), use_label_encoder=False, **optuna_search.best_params_)\n",
    "xgb.fit(X_train, y_train)"
   ]
  },
  {
   "cell_type": "markdown",
   "id": "d0ab8c80-cee1-4702-ae32-cba7f663d2e4",
   "metadata": {},
   "source": [
    "Посчитаем качество"
   ]
  },
  {
   "cell_type": "code",
   "execution_count": 17,
   "id": "d8c4f2e0-bb2c-478b-aa20-fa595c9b51da",
   "metadata": {},
   "outputs": [],
   "source": [
    "def calculate_metrics(y_true, y_pred):\n",
    "    print(f\"Precision: {precision_score(y_test, y_pred, average='weighted')}\")\n",
    "    print(f\"Recall: {recall_score(y_test, y_pred, average='weighted')}\")\n",
    "    print(f\"F1: {f1_score(y_test, y_pred, average='weighted')}\")"
   ]
  },
  {
   "cell_type": "code",
   "execution_count": 18,
   "id": "0f59637a-1220-4d9b-a385-e78177ef2fb2",
   "metadata": {},
   "outputs": [
    {
     "name": "stdout",
     "output_type": "stream",
     "text": [
      "Precision: 0.9916362216753603\n",
      "Recall: 0.9916666666666667\n",
      "F1: 0.991630676003265\n"
     ]
    }
   ],
   "source": [
    "y_pred = xgb.predict(X_test)\n",
    "calculate_metrics(y_test, y_pred)"
   ]
  },
  {
   "cell_type": "code",
   "execution_count": 19,
   "id": "c373f43f-5c4a-4865-bc2d-8ea52baeb8c4",
   "metadata": {},
   "outputs": [
    {
     "data": {
      "text/plain": [
       "<sklearn.metrics._plot.confusion_matrix.ConfusionMatrixDisplay at 0x7f132b3ab490>"
      ]
     },
     "execution_count": 19,
     "metadata": {},
     "output_type": "execute_result"
    },
    {
     "data": {
      "image/png": "[encoded data removed]",
      "text/plain": [
       "<Figure size 640x480 with 2 Axes>"
      ]
     },
     "metadata": {},
     "output_type": "display_data"
    }
   ],
   "source": [
    "cm = confusion_matrix(y_test, y_pred)\n",
    "disp = ConfusionMatrixDisplay(confusion_matrix=cm)\n",
    "disp.plot()"
   ]
  },
  {
   "cell_type": "markdown",
   "id": "8f636ef3-57e2-41aa-8ff5-d388f3fab769",
   "metadata": {},
   "source": [
    "## Интерпретация модели"
   ]
  },
  {
   "cell_type": "code",
   "execution_count": 20,
   "id": "217c1165-8543-49e3-95c0-deee949548ff",
   "metadata": {},
   "outputs": [],
   "source": [
    "explainer = shap.TreeExplainer(xgb)"
   ]
  },
  {
   "cell_type": "code",
   "execution_count": 21,
   "id": "71432825-3e3c-4a69-aa89-74ba3cdc127d",
   "metadata": {},
   "outputs": [
    {
     "ename": "NameError",
     "evalue": "name 'X_test_scaled' is not defined",
     "output_type": "error",
     "traceback": [
      "\u001b[0;31m---------------------------------------------------------------------------\u001b[0m",
      "\u001b[0;31mNameError\u001b[0m                                 Traceback (most recent call last)",
      "Cell \u001b[0;32mIn[21], line 1\u001b[0m\n\u001b[0;32m----> 1\u001b[0m choosen_instance \u001b[38;5;241m=\u001b[39m \u001b[43mX_test_scaled\u001b[49m\u001b[38;5;241m.\u001b[39mloc[[\u001b[38;5;241m10\u001b[39m]]\n\u001b[1;32m      2\u001b[0m shap_values \u001b[38;5;241m=\u001b[39m explainer\u001b[38;5;241m.\u001b[39mshap_values(choosen_instance)\n\u001b[1;32m      3\u001b[0m shap\u001b[38;5;241m.\u001b[39minitjs()\n",
      "\u001b[0;31mNameError\u001b[0m: name 'X_test_scaled' is not defined"
     ]
    }
   ],
   "source": [
    "choosen_instance = X_test_scaled.loc[[10]]\n",
    "shap_values = explainer.shap_values(choosen_instance)\n",
    "shap.initjs()\n",
    "shap.force_plot(explainer.expected_value[0], shap_values[0], choosen_instance)"
   ]
  },
  {
   "cell_type": "code",
   "execution_count": null,
   "id": "2bf21d6e-3594-4209-aa4d-85b374538cfd",
   "metadata": {},
   "outputs": [],
   "source": []
  }
 ],
 "metadata": {
  "kernelspec": {
   "display_name": "Python 3 (ipykernel)",
   "language": "python",
   "name": "python3"
  },
  "language_info": {
   "codemirror_mode": {
    "name": "ipython",
    "version": 3
   },
   "file_extension": ".py",
   "mimetype": "text/x-python",
   "name": "python",
   "nbconvert_exporter": "python",
   "pygments_lexer": "ipython3",
   "version": "3.10.12"
  }
 },
 "nbformat": 4,
 "nbformat_minor": 5
}
